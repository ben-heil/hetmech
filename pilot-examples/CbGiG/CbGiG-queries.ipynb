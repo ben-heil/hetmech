{
 "cells": [
  {
   "cell_type": "markdown",
   "metadata": {},
   "source": [
    "# Proof-of-concept queries for Project Hetmech\n",
    "\n",
    "Based on a highly customized _CbGiG_ metapath (_Compound-binds-Gene-interacts-Gene_)."
   ]
  },
  {
   "cell_type": "code",
   "execution_count": 1,
   "metadata": {
    "collapsed": true
   },
   "outputs": [],
   "source": [
    "from time import perf_counter\n",
    "\n",
    "import pandas\n",
    "from neo4j.v1 import GraphDatabase"
   ]
  },
  {
   "cell_type": "markdown",
   "metadata": {},
   "source": [
    "## Connect to the [Hetionet v1.0 Neo4j instance](https://neo4j.het.io)"
   ]
  },
  {
   "cell_type": "code",
   "execution_count": 2,
   "metadata": {
    "collapsed": false
   },
   "outputs": [],
   "source": [
    "driver = GraphDatabase.driver(\"bolt://neo4j.het.io\")\n",
    "assert driver.encrypted"
   ]
  },
  {
   "cell_type": "code",
   "execution_count": 3,
   "metadata": {
    "collapsed": true
   },
   "outputs": [],
   "source": [
    "def run_query(query, parameters={}):\n",
    "    \"\"\"Execute a Cypher query and return results as a pandas.DataFrame\"\"\"\n",
    "    start_time = perf_counter()\n",
    "    with driver.session() as session:\n",
    "        result = session.run(query, parameters)\n",
    "        result_df = pandas.DataFrame((x.values() for x in result), columns=result.keys())\n",
    "    runtime = perf_counter() - start_time\n",
    "    return result_df, runtime"
   ]
  },
  {
   "cell_type": "markdown",
   "metadata": {},
   "source": [
    "## Identify candidate treatments\n",
    "\n",
    "The following query was prototyped on [GitHub Issues](https://github.com/greenelab/hetmech/issues/6#issuecomment-236287256). It looks for compound-disease pairs where:\n",
    "\n",
    "+ the compound treats the disease\n",
    "+ the disease has at least one GWAS-associated gene\n",
    "+ the compound binds 2 or more genes\n",
    "+ the compound binds a gene that interacts with a gene that is disease-associated\n",
    "+ the compound does not bind a gene that is disease-associated (filter the obvious)"
   ]
  },
  {
   "cell_type": "code",
   "execution_count": 4,
   "metadata": {
    "collapsed": false
   },
   "outputs": [
    {
     "name": "stdout",
     "output_type": "stream",
     "text": [
      "Neo4j query took 10.70 seconds\n"
     ]
    },
    {
     "data": {
      "text/html": [
       "<div>\n",
       "<table border=\"1\" class=\"dataframe\">\n",
       "  <thead>\n",
       "    <tr style=\"text-align: right;\">\n",
       "      <th></th>\n",
       "      <th>compound</th>\n",
       "      <th>disease</th>\n",
       "    </tr>\n",
       "  </thead>\n",
       "  <tbody>\n",
       "    <tr>\n",
       "      <th>231</th>\n",
       "      <td>Vinorelbine</td>\n",
       "      <td>hematologic cancer</td>\n",
       "    </tr>\n",
       "    <tr>\n",
       "      <th>232</th>\n",
       "      <td>Vitamin C</td>\n",
       "      <td>prostate cancer</td>\n",
       "    </tr>\n",
       "    <tr>\n",
       "      <th>233</th>\n",
       "      <td>Vorinostat</td>\n",
       "      <td>hematologic cancer</td>\n",
       "    </tr>\n",
       "  </tbody>\n",
       "</table>\n",
       "</div>"
      ],
      "text/plain": [
       "        compound             disease\n",
       "231  Vinorelbine  hematologic cancer\n",
       "232    Vitamin C     prostate cancer\n",
       "233   Vorinostat  hematologic cancer"
      ]
     },
     "execution_count": 4,
     "metadata": {},
     "output_type": "execute_result"
    }
   ],
   "source": [
    "query = \"\"\"\n",
    "MATCH path = (compound:Compound)-[TREATS_CtD]-(disease:Disease)\n",
    "WHERE\n",
    "  exists((disease)-[:ASSOCIATES_DaG {unbiased: true}]-())\n",
    "  AND size((compound)-[:BINDS_CbG]-()) > 1\n",
    "  AND exists((compound)-[:BINDS_CbG]-()-[:INTERACTS_GiG]-()-[:ASSOCIATES_DaG {unbiased: true}]-(disease))\n",
    "  AND NOT exists((compound)-[:BINDS_CbG]-()-[:ASSOCIATES_DaG {unbiased: true}]-(disease))\n",
    "RETURN compound.name AS compound, disease.name AS disease\n",
    "ORDER BY compound, disease\n",
    "\"\"\"\n",
    "treatment_df, query_time = run_query(query)\n",
    "print('Neo4j query took {:.2f} seconds'.format(query_time))\n",
    "treatment_df.tail(3)"
   ]
  },
  {
   "cell_type": "markdown",
   "metadata": {},
   "source": [
    "## Infer the mechanistic targets for each treatment\n",
    "\n",
    "For each treatment (compound-disease pair), we evaluate each target (gene that the compound binds) for whether it's the therapeutic mechanism. We base our inferrence of therapeutic mechanism by looking for targets which interact with GWAS-associated genes of the treated disease. We rank targets based on a precision assumption: the target with the greatest percentage of associations in its set of interacting genes (`precision`) is ranked highest.\n",
    "\n",
    "Here are some definitions:\n",
    "\n",
    "+ positives: the set of GWAS-associated genes for the disease\n",
    "+ `TP + FP`: the set of interacting genes for the target that is bound by the compound\n",
    "+ `TP` (true positives): the set of GWAS-associated genes that interact with the target \n",
    "+ `FP` (false positives): the set of GWAS-unassociated genes that interact with the target\n",
    "+ `precision`: the percent of genes interacting with the target that are disease-associated"
   ]
  },
  {
   "cell_type": "code",
   "execution_count": 5,
   "metadata": {
    "collapsed": false,
    "scrolled": false
   },
   "outputs": [
    {
     "name": "stdout",
     "output_type": "stream",
     "text": [
      "Neo4j queries took 9.41 seconds\n"
     ]
    }
   ],
   "source": [
    "query = \"\"\"\n",
    "MATCH path = (compound:Compound)-[:BINDS_CbG]-(gene_1)-[:INTERACTS_GiG]-(gene_2)\n",
    "  WHERE compound.name = { compound }\n",
    "OPTIONAL MATCH (gene_2)-[association:ASSOCIATES_DaG {unbiased: true}]-(disease:Disease)\n",
    "  WHERE disease.name = { disease }\n",
    "WITH\n",
    "  gene_1, gene_2, association\n",
    "  ORDER BY gene_2.name\n",
    "WITH\n",
    "  gene_1,\n",
    "  extract(x in collect(gene_2) | x.name) AS interactors,\n",
    "  extract(x in collect(association) | endNode(x).name) AS associated_interactors\n",
    "WITH\n",
    "  gene_1,\n",
    "  interactors, associated_interactors,\n",
    "  size(associated_interactors) AS TP,\n",
    "  size(interactors) AS `TP + FP`\n",
    "RETURN\n",
    "  { compound } AS compound,\n",
    "  { disease } AS disease,\n",
    "  gene_1.name AS target,\n",
    "  associated_interactors,\n",
    "  interactors,\n",
    "  TP, `TP + FP`,\n",
    "  toFloat(TP) / `TP + FP` AS precision\n",
    "ORDER BY precision DESC, `TP + FP`, target\n",
    "\"\"\"\n",
    "\n",
    "dfs = list()\n",
    "query_time = 0\n",
    "for i, parameters in treatment_df.iterrows():\n",
    "    parameters = dict(parameters)\n",
    "    df, runtime = run_query(query, parameters)\n",
    "    dfs.append(df)\n",
    "    query_time += runtime\n",
    "\n",
    "print('Neo4j queries took {:.2f} seconds'.format(query_time))\n",
    "\n",
    "mechanism_df = pandas.concat(dfs)\n",
    "for column in 'interactors', 'associated_interactors':\n",
    "    mechanism_df[column] = mechanism_df[column].str.join(', ')"
   ]
  },
  {
   "cell_type": "code",
   "execution_count": 6,
   "metadata": {
    "collapsed": false
   },
   "outputs": [
    {
     "data": {
      "text/plain": [
       "3505"
      ]
     },
     "execution_count": 6,
     "metadata": {},
     "output_type": "execute_result"
    }
   ],
   "source": [
    "# Number of treatment-target pairs\n",
    "len(mechanism_df)"
   ]
  },
  {
   "cell_type": "code",
   "execution_count": 7,
   "metadata": {
    "collapsed": false
   },
   "outputs": [
    {
     "data": {
      "text/html": [
       "<div>\n",
       "<table border=\"1\" class=\"dataframe\">\n",
       "  <thead>\n",
       "    <tr style=\"text-align: right;\">\n",
       "      <th></th>\n",
       "      <th>compound</th>\n",
       "      <th>disease</th>\n",
       "      <th>target</th>\n",
       "      <th>associated_interactors</th>\n",
       "      <th>interactors</th>\n",
       "      <th>TP</th>\n",
       "      <th>TP + FP</th>\n",
       "      <th>precision</th>\n",
       "    </tr>\n",
       "  </thead>\n",
       "  <tbody>\n",
       "    <tr>\n",
       "      <th>0</th>\n",
       "      <td>Abiraterone</td>\n",
       "      <td>prostate cancer</td>\n",
       "      <td>ALB</td>\n",
       "      <td>KLK3</td>\n",
       "      <td>ACADVL, ADRA1B, AGA, AHSG, AMBP, AMPD3, AP1M1,...</td>\n",
       "      <td>1</td>\n",
       "      <td>165</td>\n",
       "      <td>0.006061</td>\n",
       "    </tr>\n",
       "    <tr>\n",
       "      <th>1</th>\n",
       "      <td>Abiraterone</td>\n",
       "      <td>prostate cancer</td>\n",
       "      <td>ABCC1</td>\n",
       "      <td></td>\n",
       "      <td>AZGP1, NPM1, TRAF3</td>\n",
       "      <td>0</td>\n",
       "      <td>3</td>\n",
       "      <td>0.000000</td>\n",
       "    </tr>\n",
       "    <tr>\n",
       "      <th>2</th>\n",
       "      <td>Abiraterone</td>\n",
       "      <td>prostate cancer</td>\n",
       "      <td>SULT2A1</td>\n",
       "      <td></td>\n",
       "      <td>PRDX4, STAT3, STK3, SULT1B1, TMX1, UBD</td>\n",
       "      <td>0</td>\n",
       "      <td>6</td>\n",
       "      <td>0.000000</td>\n",
       "    </tr>\n",
       "    <tr>\n",
       "      <th>3</th>\n",
       "      <td>Abiraterone</td>\n",
       "      <td>prostate cancer</td>\n",
       "      <td>CYP3A4</td>\n",
       "      <td></td>\n",
       "      <td>AMFR, CYB5A, GK, PGRMC1, POR, STUB1, UGT2B7</td>\n",
       "      <td>0</td>\n",
       "      <td>7</td>\n",
       "      <td>0.000000</td>\n",
       "    </tr>\n",
       "    <tr>\n",
       "      <th>4</th>\n",
       "      <td>Abiraterone</td>\n",
       "      <td>prostate cancer</td>\n",
       "      <td>ORM1</td>\n",
       "      <td></td>\n",
       "      <td>ALB, BLVRB, CCR5, GLUD1, GSDMB, PIK3R3, SERPIN...</td>\n",
       "      <td>0</td>\n",
       "      <td>8</td>\n",
       "      <td>0.000000</td>\n",
       "    </tr>\n",
       "  </tbody>\n",
       "</table>\n",
       "</div>"
      ],
      "text/plain": [
       "      compound          disease   target associated_interactors  \\\n",
       "0  Abiraterone  prostate cancer      ALB                   KLK3   \n",
       "1  Abiraterone  prostate cancer    ABCC1                          \n",
       "2  Abiraterone  prostate cancer  SULT2A1                          \n",
       "3  Abiraterone  prostate cancer   CYP3A4                          \n",
       "4  Abiraterone  prostate cancer     ORM1                          \n",
       "\n",
       "                                         interactors  TP  TP + FP  precision  \n",
       "0  ACADVL, ADRA1B, AGA, AHSG, AMBP, AMPD3, AP1M1,...   1      165   0.006061  \n",
       "1                                 AZGP1, NPM1, TRAF3   0        3   0.000000  \n",
       "2             PRDX4, STAT3, STK3, SULT1B1, TMX1, UBD   0        6   0.000000  \n",
       "3        AMFR, CYB5A, GK, PGRMC1, POR, STUB1, UGT2B7   0        7   0.000000  \n",
       "4  ALB, BLVRB, CCR5, GLUD1, GSDMB, PIK3R3, SERPIN...   0        8   0.000000  "
      ]
     },
     "execution_count": 7,
     "metadata": {},
     "output_type": "execute_result"
    }
   ],
   "source": [
    "mechanism_df.head()"
   ]
  },
  {
   "cell_type": "code",
   "execution_count": 8,
   "metadata": {
    "collapsed": true
   },
   "outputs": [],
   "source": [
    "mechanism_df.to_csv('CbGiG-candidates.tsv', index=False, sep='\\t', float_format='%.3g')"
   ]
  }
 ],
 "metadata": {
  "kernelspec": {
   "display_name": "Python [Root]",
   "language": "python",
   "name": "Python [Root]"
  },
  "language_info": {
   "codemirror_mode": {
    "name": "ipython",
    "version": 3
   },
   "file_extension": ".py",
   "mimetype": "text/x-python",
   "name": "python",
   "nbconvert_exporter": "python",
   "pygments_lexer": "ipython3",
   "version": "3.5.2"
  }
 },
 "nbformat": 4,
 "nbformat_minor": 0
}
