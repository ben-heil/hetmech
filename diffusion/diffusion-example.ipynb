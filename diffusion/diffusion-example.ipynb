{
 "cells": [
  {
   "cell_type": "code",
   "execution_count": 138,
   "metadata": {
    "collapsed": false
   },
   "outputs": [],
   "source": [
    "import collections\n",
    "\n",
    "import numpy\n",
    "import pandas\n",
    "from sklearn.preprocessing import normalize\n",
    "from neo4j.v1 import GraphDatabase\n",
    "import hetio.readwrite\n",
    "import hetio.hetnet"
   ]
  },
  {
   "cell_type": "code",
   "execution_count": null,
   "metadata": {
    "collapsed": true
   },
   "outputs": [],
   "source": [
    "#url = 'https://github.com/dhimmel/hetionet/blob/76550e6c93fbe92124edc71725e8c7dd4ca8b1f5/hetnet/json/hetionet-v1.0-metagraph.json'"
   ]
  },
  {
   "cell_type": "code",
   "execution_count": 3,
   "metadata": {
    "collapsed": false
   },
   "outputs": [
    {
     "name": "stdout",
     "output_type": "stream",
     "text": [
      "CPU times: user 1min 18s, sys: 1.95 s, total: 1min 20s\n",
      "Wall time: 1min 21s\n"
     ]
    }
   ],
   "source": [
    "%%time\n",
    "url = 'https://github.com/dhimmel/hetionet/raw/76550e6c93fbe92124edc71725e8c7dd4ca8b1f5/hetnet/json/hetionet-v1.0.json.bz2'\n",
    "graph = hetio.readwrite.read_graph(url)"
   ]
  },
  {
   "cell_type": "code",
   "execution_count": 9,
   "metadata": {
    "collapsed": false
   },
   "outputs": [
    {
     "data": {
      "text/plain": [
       "['Side Effect',\n",
       " 'Disease',\n",
       " 'Symptom',\n",
       " 'Cellular Component',\n",
       " 'Biological Process',\n",
       " 'Molecular Function',\n",
       " 'Pathway',\n",
       " 'Anatomy',\n",
       " 'Pharmacologic Class',\n",
       " 'Compound',\n",
       " 'Gene']"
      ]
     },
     "execution_count": 9,
     "metadata": {},
     "output_type": "execute_result"
    }
   ],
   "source": [
    "metagraph = graph.metagraph\n",
    "list(metagraph.node_dict)"
   ]
  },
  {
   "cell_type": "code",
   "execution_count": 10,
   "metadata": {
    "collapsed": true
   },
   "outputs": [],
   "source": [
    "metanode_to_nodes = graph.get_metanode_to_nodes()\n",
    "metaedge_to_edges = graph.get_metaedge_to_edges()"
   ]
  },
  {
   "cell_type": "code",
   "execution_count": 15,
   "metadata": {
    "collapsed": false
   },
   "outputs": [],
   "source": [
    "disease = metagraph.get_node('Disease')"
   ]
  },
  {
   "cell_type": "code",
   "execution_count": 18,
   "metadata": {
    "collapsed": false
   },
   "outputs": [],
   "source": [
    "diseases = metanode_to_nodes[disease]\n",
    "diseases.sort()"
   ]
  },
  {
   "cell_type": "code",
   "execution_count": 50,
   "metadata": {
    "collapsed": false
   },
   "outputs": [],
   "source": [
    "def get_node_to_position(graph, metanode):\n",
    "    \"\"\"\n",
    "    Given a metanode, return a dictionary of node to position\n",
    "    \"\"\"\n",
    "    if not isinstance(metanode, hetio.hetnet.MetaNode):\n",
    "        # metanode is a name\n",
    "        metanode = graph.node_dict(metanode)\n",
    "    metanode_to_nodes = graph.get_metanode_to_nodes()\n",
    "    nodes = sorted(metanode_to_nodes[metanode])\n",
    "    node_to_position = collections.OrderedDict((n, i) for i, n in enumerate(nodes))\n",
    "    return node_to_position\n",
    "\n",
    "def metaedge_to_adjacency_matrix(graph, metaedge):\n",
    "    \"\"\"\n",
    "    Returns an adjacency matrix where source nodes are columns and target nodes are rows\n",
    "    \"\"\"\n",
    "    if not isinstance(metaedge, hetio.hetnet.MetaEdge):\n",
    "        # metaedge is an abbreviation\n",
    "        metaedge = metagraph.metapath_from_abbrev(metaedge)[0]\n",
    "    source_nodes = list(get_node_to_position(graph, metaedge.source))\n",
    "    target_node_to_position = get_node_to_position(graph, metaedge.target)\n",
    "    adjacency_matrix = numpy.zeros((len(target_node_to_position), len(source_nodes)))\n",
    "    for j, source_node in enumerate(source_nodes):\n",
    "        for edge in source_node.edges[metaedge]:\n",
    "            i = target_node_to_position[edge.target]\n",
    "            adjacency_matrix[i, j] = 1\n",
    "    return adjacency_matrix"
   ]
  },
  {
   "cell_type": "code",
   "execution_count": 51,
   "metadata": {
    "collapsed": false
   },
   "outputs": [
    {
     "data": {
      "text/plain": [
       "(20945, 137)"
      ]
     },
     "execution_count": 51,
     "metadata": {},
     "output_type": "execute_result"
    }
   ],
   "source": [
    "adjacency_matrix = metaedge_to_adjacency_matrix(graph, 'DaG')\n",
    "adjacency_matrix.shape"
   ]
  },
  {
   "cell_type": "code",
   "execution_count": 32,
   "metadata": {
    "collapsed": false
   },
   "outputs": [
    {
     "data": {
      "text/plain": [
       "20945"
      ]
     },
     "execution_count": 32,
     "metadata": {},
     "output_type": "execute_result"
    }
   ],
   "source": [
    "metaedge = metagraph.metapath_from_abbrev('GaD')[0]\n",
    "source_nodes = sorted(metanode_to_nodes[metaedge.source])\n",
    "target_nodes = sorted(metanode_to_nodes[metaedge.target])\n",
    "len(source_nodes)"
   ]
  },
  {
   "cell_type": "code",
   "execution_count": 35,
   "metadata": {
    "collapsed": false
   },
   "outputs": [
    {
     "name": "stdout",
     "output_type": "stream",
     "text": [
      "Gene::1\n"
     ]
    }
   ],
   "source": [
    "A1BG = source_nodes[0]\n",
    "print(A1BG)"
   ]
  },
  {
   "cell_type": "code",
   "execution_count": 38,
   "metadata": {
    "collapsed": false
   },
   "outputs": [
    {
     "name": "stdout",
     "output_type": "stream",
     "text": [
      "Disease::DOID:12185\n"
     ]
    }
   ],
   "source": [
    "for edge in A1BG.edges[metaedge]:\n",
    "    print(edge.target)"
   ]
  },
  {
   "cell_type": "code",
   "execution_count": 28,
   "metadata": {
    "collapsed": false
   },
   "outputs": [
    {
     "name": "stdout",
     "output_type": "stream",
     "text": [
      "Gene - associates - Disease\n"
     ]
    }
   ],
   "source": [
    "print(metaedge)"
   ]
  },
  {
   "cell_type": "code",
   "execution_count": 53,
   "metadata": {
    "collapsed": false
   },
   "outputs": [
    {
     "data": {
      "text/plain": [
       "GiGpPW"
      ]
     },
     "execution_count": 53,
     "metadata": {},
     "output_type": "execute_result"
    }
   ],
   "source": []
  },
  {
   "cell_type": "code",
   "execution_count": 56,
   "metadata": {
    "collapsed": false
   },
   "outputs": [
    {
     "data": {
      "text/plain": [
       "<hetio.hetnet.MetaNode at 0x7f56c1c37cc0>"
      ]
     },
     "execution_count": 56,
     "metadata": {},
     "output_type": "execute_result"
    }
   ],
   "source": []
  },
  {
   "cell_type": "code",
   "execution_count": 154,
   "metadata": {
    "collapsed": true
   },
   "outputs": [],
   "source": [
    "def row_normalize(matrix, damping_exponent=0):\n",
    "    \"\"\"\n",
    "    Row normalize a 2d numpy array\n",
    "    \"\"\"\n",
    "    matrix = matrix.copy()\n",
    "    n_rows, n_cols = matrix.shape\n",
    "    for j in range(n_rows):\n",
    "        row_sum = matrix[j, :].sum()\n",
    "        if row_sum == 0:\n",
    "            continue\n",
    "        matrix[ j, :] *= row_sum ** -damping_exponent\n",
    "    return matrix\n",
    "\n",
    "\n",
    "def diffuse_along_metapath(graph, metapath, source_node_weights, damping_exponent=0):\n",
    "    \"\"\"\n",
    "    Parameters\n",
    "    ==========\n",
    "    graph : hetio.hetnet.Graph\n",
    "        graph to extract adjacency matrixes along\n",
    "    metapath : hetio.hetnet.MetaPath\n",
    "        metapath to diffuse along\n",
    "    source_node_weights : dict\n",
    "        dictionary of node to weight. Nodes not in dict are zero-weighted\n",
    "    \"\"\"\n",
    "    \n",
    "    # Initialize node weights\n",
    "    source_metanode = metapath.source()\n",
    "    source_node_to_position = get_node_to_position(graph, source_metanode)\n",
    "    node_scores = numpy.zeros(len(source_node_to_position))\n",
    "    for source_node, weight in source_node_weights.items():\n",
    "        i = source_node_to_position[source_node]\n",
    "        node_scores[i] = weight\n",
    "    \n",
    "    for metaedge in metapath:\n",
    "        adjacency_matrix = metaedge_to_adjacency_matrix(graph, metaedge)\n",
    "        # Row normalization and degree damping\n",
    "        adjacency_matrix = row_normalize(adjacency_matrix, damping_exponent)\n",
    "        # Column Normalization\n",
    "        adjacency_matrix = normalize(adjacency_matrix, norm='l1', axis=0)\n",
    "        # Can use @ in Python 3.5+ https://www.python.org/dev/peps/pep-0465/\n",
    "        node_scores = adjacency_matrix.dot(node_scores)\n",
    "\n",
    "\n",
    "    target_metanode = metapath.target()\n",
    "    target_node_to_position = get_node_to_position(graph, target_metanode)\n",
    "    node_to_score = collections.OrderedDict(zip(target_node_to_position, node_scores))\n",
    "    return node_to_score"
   ]
  },
  {
   "cell_type": "code",
   "execution_count": 140,
   "metadata": {
    "collapsed": false
   },
   "outputs": [
    {
     "data": {
      "text/html": [
       "<div>\n",
       "<table border=\"1\" class=\"dataframe\">\n",
       "  <thead>\n",
       "    <tr style=\"text-align: right;\">\n",
       "      <th></th>\n",
       "      <th>gene_symbol</th>\n",
       "      <th>gene_name</th>\n",
       "      <th>entrez_gene_id</th>\n",
       "      <th>sources</th>\n",
       "    </tr>\n",
       "  </thead>\n",
       "  <tbody>\n",
       "    <tr>\n",
       "      <th>0</th>\n",
       "      <td>ABAT</td>\n",
       "      <td>4-aminobutyrate aminotransferase</td>\n",
       "      <td>18</td>\n",
       "      <td>[DisGeNET]</td>\n",
       "    </tr>\n",
       "    <tr>\n",
       "      <th>1</th>\n",
       "      <td>ABCB1</td>\n",
       "      <td>ATP-binding cassette, sub-family B (MDR/TAP), ...</td>\n",
       "      <td>5243</td>\n",
       "      <td>[DISEASES, DOAF, DisGeNET]</td>\n",
       "    </tr>\n",
       "    <tr>\n",
       "      <th>2</th>\n",
       "      <td>ABCC2</td>\n",
       "      <td>ATP-binding cassette, sub-family C (CFTR/MRP),...</td>\n",
       "      <td>1244</td>\n",
       "      <td>[DisGeNET]</td>\n",
       "    </tr>\n",
       "    <tr>\n",
       "      <th>3</th>\n",
       "      <td>ABCG2</td>\n",
       "      <td>ATP-binding cassette, sub-family G (WHITE), me...</td>\n",
       "      <td>9429</td>\n",
       "      <td>[DisGeNET]</td>\n",
       "    </tr>\n",
       "    <tr>\n",
       "      <th>4</th>\n",
       "      <td>ACKR4</td>\n",
       "      <td>atypical chemokine receptor 4</td>\n",
       "      <td>51554</td>\n",
       "      <td>[DISEASES]</td>\n",
       "    </tr>\n",
       "  </tbody>\n",
       "</table>\n",
       "</div>"
      ],
      "text/plain": [
       "  gene_symbol                                          gene_name  \\\n",
       "0        ABAT                   4-aminobutyrate aminotransferase   \n",
       "1       ABCB1  ATP-binding cassette, sub-family B (MDR/TAP), ...   \n",
       "2       ABCC2  ATP-binding cassette, sub-family C (CFTR/MRP),...   \n",
       "3       ABCG2  ATP-binding cassette, sub-family G (WHITE), me...   \n",
       "4       ACKR4                      atypical chemokine receptor 4   \n",
       "\n",
       "   entrez_gene_id                     sources  \n",
       "0              18                  [DisGeNET]  \n",
       "1            5243  [DISEASES, DOAF, DisGeNET]  \n",
       "2            1244                  [DisGeNET]  \n",
       "3            9429                  [DisGeNET]  \n",
       "4           51554                  [DISEASES]  "
      ]
     },
     "execution_count": 140,
     "metadata": {},
     "output_type": "execute_result"
    }
   ],
   "source": [
    "# Uses the official neo4j-python-driver. See https://github.com/neo4j/neo4j-python-driver\n",
    "\n",
    "query = '''\n",
    "MATCH (disease:Disease)-[assoc:ASSOCIATES_DaG]-(gene:Gene)\n",
    "WHERE disease.name = 'epilepsy syndrome'\n",
    "RETURN\n",
    " gene.name AS gene_symbol,\n",
    " gene.description AS gene_name,\n",
    " gene.identifier AS entrez_gene_id,\n",
    " assoc.sources AS sources\n",
    "ORDER BY gene_symbol\n",
    "'''\n",
    "\n",
    "driver = GraphDatabase.driver(\"bolt://neo4j.het.io\")\n",
    "with driver.session() as session:\n",
    "    result = session.run(query)\n",
    "    gene_df = pandas.DataFrame((x.values() for x in result), columns=result.keys())\n",
    "\n",
    "gene_df.head()"
   ]
  },
  {
   "cell_type": "code",
   "execution_count": 141,
   "metadata": {
    "collapsed": false
   },
   "outputs": [
    {
     "data": {
      "text/plain": [
       "399"
      ]
     },
     "execution_count": 141,
     "metadata": {},
     "output_type": "execute_result"
    }
   ],
   "source": [
    "epilepsy_genes = list()\n",
    "for entrez_gene_id in gene_df.entrez_gene_id:\n",
    "    node_id = 'Gene', entrez_gene_id\n",
    "    node = graph.node_dict.get(node_id)\n",
    "    if node:\n",
    "        epilepsy_genes.append(node)\n",
    "len(epilepsy_genes)"
   ]
  },
  {
   "cell_type": "code",
   "execution_count": 159,
   "metadata": {
    "collapsed": false
   },
   "outputs": [],
   "source": [
    "metapath = metagraph.metapath_from_abbrev('GiGpBP')\n",
    "source_node_weights = {gene: 1 for gene in epilepsy_genes}\n",
    "pathway_scores = diffuse_along_metapath(graph, metapath, source_node_weights, damping_exponent=1)\n",
    "rows = [(pathway.name, score) for pathway, score in pathway_scores.items()]\n",
    "target_df = pandas.DataFrame(rows, columns=['target_node', 'score'])\n",
    "target_df = target_df.sort_values('score', ascending=False)"
   ]
  },
  {
   "cell_type": "code",
   "execution_count": 160,
   "metadata": {
    "collapsed": false
   },
   "outputs": [
    {
     "data": {
      "text/plain": [
       "11381"
      ]
     },
     "execution_count": 160,
     "metadata": {},
     "output_type": "execute_result"
    }
   ],
   "source": [
    "len(target_df)"
   ]
  },
  {
   "cell_type": "code",
   "execution_count": 161,
   "metadata": {
    "collapsed": false
   },
   "outputs": [
    {
     "data": {
      "text/plain": [
       "353.76933841978138"
      ]
     },
     "execution_count": 161,
     "metadata": {},
     "output_type": "execute_result"
    }
   ],
   "source": [
    "sum(target_df.score)"
   ]
  },
  {
   "cell_type": "code",
   "execution_count": 162,
   "metadata": {
    "collapsed": false
   },
   "outputs": [
    {
     "data": {
      "text/plain": [
       "GiGpBP"
      ]
     },
     "execution_count": 162,
     "metadata": {},
     "output_type": "execute_result"
    }
   ],
   "source": [
    "metapath"
   ]
  },
  {
   "cell_type": "code",
   "execution_count": 163,
   "metadata": {
    "collapsed": false,
    "scrolled": false
   },
   "outputs": [
    {
     "data": {
      "text/html": [
       "<div>\n",
       "<table border=\"1\" class=\"dataframe\">\n",
       "  <thead>\n",
       "    <tr style=\"text-align: right;\">\n",
       "      <th></th>\n",
       "      <th>target_node</th>\n",
       "      <th>score</th>\n",
       "    </tr>\n",
       "  </thead>\n",
       "  <tbody>\n",
       "    <tr>\n",
       "      <th>4751</th>\n",
       "      <td>ionotropic glutamate receptor signaling pathway</td>\n",
       "      <td>1.091022</td>\n",
       "    </tr>\n",
       "    <tr>\n",
       "      <th>2530</th>\n",
       "      <td>ubiquitin homeostasis</td>\n",
       "      <td>1.038370</td>\n",
       "    </tr>\n",
       "    <tr>\n",
       "      <th>1783</th>\n",
       "      <td>digestion</td>\n",
       "      <td>0.971243</td>\n",
       "    </tr>\n",
       "    <tr>\n",
       "      <th>7663</th>\n",
       "      <td>membrane hyperpolarization</td>\n",
       "      <td>0.948960</td>\n",
       "    </tr>\n",
       "    <tr>\n",
       "      <th>1485</th>\n",
       "      <td>Golgi to endosome transport</td>\n",
       "      <td>0.907327</td>\n",
       "    </tr>\n",
       "    <tr>\n",
       "      <th>1901</th>\n",
       "      <td>hormone-mediated apoptotic signaling pathway</td>\n",
       "      <td>0.903992</td>\n",
       "    </tr>\n",
       "    <tr>\n",
       "      <th>10834</th>\n",
       "      <td>G-protein coupled receptor catabolic process</td>\n",
       "      <td>0.745224</td>\n",
       "    </tr>\n",
       "    <tr>\n",
       "      <th>1665</th>\n",
       "      <td>glutamate receptor signaling pathway</td>\n",
       "      <td>0.741791</td>\n",
       "    </tr>\n",
       "    <tr>\n",
       "      <th>1647</th>\n",
       "      <td>adenylate cyclase-inhibiting G-protein coupled...</td>\n",
       "      <td>0.703113</td>\n",
       "    </tr>\n",
       "    <tr>\n",
       "      <th>1664</th>\n",
       "      <td>gamma-aminobutyric acid signaling pathway</td>\n",
       "      <td>0.686195</td>\n",
       "    </tr>\n",
       "    <tr>\n",
       "      <th>8864</th>\n",
       "      <td>cellular potassium ion transport</td>\n",
       "      <td>0.638380</td>\n",
       "    </tr>\n",
       "    <tr>\n",
       "      <th>8865</th>\n",
       "      <td>potassium ion transmembrane transport</td>\n",
       "      <td>0.638380</td>\n",
       "    </tr>\n",
       "    <tr>\n",
       "      <th>7115</th>\n",
       "      <td>positive regulation of membrane protein ectodo...</td>\n",
       "      <td>0.618339</td>\n",
       "    </tr>\n",
       "    <tr>\n",
       "      <th>1483</th>\n",
       "      <td>post-Golgi vesicle-mediated transport</td>\n",
       "      <td>0.593439</td>\n",
       "    </tr>\n",
       "    <tr>\n",
       "      <th>38</th>\n",
       "      <td>MAPK cascade</td>\n",
       "      <td>0.590967</td>\n",
       "    </tr>\n",
       "    <tr>\n",
       "      <th>7721</th>\n",
       "      <td>definitive hemopoiesis</td>\n",
       "      <td>0.590107</td>\n",
       "    </tr>\n",
       "    <tr>\n",
       "      <th>4934</th>\n",
       "      <td>glial cell-derived neurotrophic factor recepto...</td>\n",
       "      <td>0.586304</td>\n",
       "    </tr>\n",
       "    <tr>\n",
       "      <th>7698</th>\n",
       "      <td>phospholipase C-activating dopamine receptor s...</td>\n",
       "      <td>0.574513</td>\n",
       "    </tr>\n",
       "    <tr>\n",
       "      <th>1437</th>\n",
       "      <td>potassium ion transport</td>\n",
       "      <td>0.573239</td>\n",
       "    </tr>\n",
       "    <tr>\n",
       "      <th>1194</th>\n",
       "      <td>glycyl-tRNA aminoacylation</td>\n",
       "      <td>0.567616</td>\n",
       "    </tr>\n",
       "    <tr>\n",
       "      <th>1689</th>\n",
       "      <td>small GTPase mediated signal transduction</td>\n",
       "      <td>0.560185</td>\n",
       "    </tr>\n",
       "    <tr>\n",
       "      <th>9854</th>\n",
       "      <td>regulation of long term synaptic depression</td>\n",
       "      <td>0.544265</td>\n",
       "    </tr>\n",
       "    <tr>\n",
       "      <th>3427</th>\n",
       "      <td>signal transduction by protein phosphorylation</td>\n",
       "      <td>0.535914</td>\n",
       "    </tr>\n",
       "    <tr>\n",
       "      <th>2198</th>\n",
       "      <td>potassium ion import</td>\n",
       "      <td>0.534864</td>\n",
       "    </tr>\n",
       "    <tr>\n",
       "      <th>3032</th>\n",
       "      <td>cytokine-mediated signaling pathway</td>\n",
       "      <td>0.527236</td>\n",
       "    </tr>\n",
       "    <tr>\n",
       "      <th>3429</th>\n",
       "      <td>termination of signal transduction</td>\n",
       "      <td>0.524497</td>\n",
       "    </tr>\n",
       "    <tr>\n",
       "      <th>964</th>\n",
       "      <td>glycogen biosynthetic process</td>\n",
       "      <td>0.512390</td>\n",
       "    </tr>\n",
       "    <tr>\n",
       "      <th>2045</th>\n",
       "      <td>glucan biosynthetic process</td>\n",
       "      <td>0.512390</td>\n",
       "    </tr>\n",
       "    <tr>\n",
       "      <th>5222</th>\n",
       "      <td>retrograde transport, endosome to Golgi</td>\n",
       "      <td>0.502287</td>\n",
       "    </tr>\n",
       "    <tr>\n",
       "      <th>8308</th>\n",
       "      <td>chemokine-mediated signaling pathway</td>\n",
       "      <td>0.485768</td>\n",
       "    </tr>\n",
       "    <tr>\n",
       "      <th>...</th>\n",
       "      <td>...</td>\n",
       "      <td>...</td>\n",
       "    </tr>\n",
       "    <tr>\n",
       "      <th>1035</th>\n",
       "      <td>succinyl-CoA metabolic process</td>\n",
       "      <td>0.000000</td>\n",
       "    </tr>\n",
       "    <tr>\n",
       "      <th>2968</th>\n",
       "      <td>peptidyl-tryptophan modification</td>\n",
       "      <td>0.000000</td>\n",
       "    </tr>\n",
       "    <tr>\n",
       "      <th>1045</th>\n",
       "      <td>NADH oxidation</td>\n",
       "      <td>0.000000</td>\n",
       "    </tr>\n",
       "    <tr>\n",
       "      <th>1048</th>\n",
       "      <td>mitochondrial electron transport, succinate to...</td>\n",
       "      <td>0.000000</td>\n",
       "    </tr>\n",
       "    <tr>\n",
       "      <th>1059</th>\n",
       "      <td>purine ribonucleoside salvage</td>\n",
       "      <td>0.000000</td>\n",
       "    </tr>\n",
       "    <tr>\n",
       "      <th>10104</th>\n",
       "      <td>L-histidine transport</td>\n",
       "      <td>0.000000</td>\n",
       "    </tr>\n",
       "    <tr>\n",
       "      <th>1011</th>\n",
       "      <td>UDP-glucuronate biosynthetic process</td>\n",
       "      <td>0.000000</td>\n",
       "    </tr>\n",
       "    <tr>\n",
       "      <th>995</th>\n",
       "      <td>chitin catabolic process</td>\n",
       "      <td>0.000000</td>\n",
       "    </tr>\n",
       "    <tr>\n",
       "      <th>1003</th>\n",
       "      <td>N-acetylmannosamine metabolic process</td>\n",
       "      <td>0.000000</td>\n",
       "    </tr>\n",
       "    <tr>\n",
       "      <th>8144</th>\n",
       "      <td>ciliary body morphogenesis</td>\n",
       "      <td>0.000000</td>\n",
       "    </tr>\n",
       "    <tr>\n",
       "      <th>8145</th>\n",
       "      <td>regulation of neural retina development</td>\n",
       "      <td>0.000000</td>\n",
       "    </tr>\n",
       "    <tr>\n",
       "      <th>998</th>\n",
       "      <td>N-acetylglucosamine metabolic process</td>\n",
       "      <td>0.000000</td>\n",
       "    </tr>\n",
       "    <tr>\n",
       "      <th>999</th>\n",
       "      <td>N-acetylglucosamine biosynthetic process</td>\n",
       "      <td>0.000000</td>\n",
       "    </tr>\n",
       "    <tr>\n",
       "      <th>1000</th>\n",
       "      <td>UDP-N-acetylglucosamine metabolic process</td>\n",
       "      <td>0.000000</td>\n",
       "    </tr>\n",
       "    <tr>\n",
       "      <th>2995</th>\n",
       "      <td>biphenyl metabolic process</td>\n",
       "      <td>0.000000</td>\n",
       "    </tr>\n",
       "    <tr>\n",
       "      <th>1001</th>\n",
       "      <td>UDP-N-acetylglucosamine biosynthetic process</td>\n",
       "      <td>0.000000</td>\n",
       "    </tr>\n",
       "    <tr>\n",
       "      <th>1002</th>\n",
       "      <td>mannosamine metabolic process</td>\n",
       "      <td>0.000000</td>\n",
       "    </tr>\n",
       "    <tr>\n",
       "      <th>8155</th>\n",
       "      <td>regulation of phospholipid translocation</td>\n",
       "      <td>0.000000</td>\n",
       "    </tr>\n",
       "    <tr>\n",
       "      <th>8156</th>\n",
       "      <td>positive regulation of phospholipid translocation</td>\n",
       "      <td>0.000000</td>\n",
       "    </tr>\n",
       "    <tr>\n",
       "      <th>8170</th>\n",
       "      <td>trachea gland development</td>\n",
       "      <td>0.000000</td>\n",
       "    </tr>\n",
       "    <tr>\n",
       "      <th>2993</th>\n",
       "      <td>protein C-linked glycosylation via 2'-alpha-ma...</td>\n",
       "      <td>0.000000</td>\n",
       "    </tr>\n",
       "    <tr>\n",
       "      <th>2984</th>\n",
       "      <td>protein farnesylation</td>\n",
       "      <td>0.000000</td>\n",
       "    </tr>\n",
       "    <tr>\n",
       "      <th>10121</th>\n",
       "      <td>positive regulation of sperm motility</td>\n",
       "      <td>0.000000</td>\n",
       "    </tr>\n",
       "    <tr>\n",
       "      <th>1004</th>\n",
       "      <td>N-acetylneuraminate metabolic process</td>\n",
       "      <td>0.000000</td>\n",
       "    </tr>\n",
       "    <tr>\n",
       "      <th>1005</th>\n",
       "      <td>mannoprotein metabolic process</td>\n",
       "      <td>0.000000</td>\n",
       "    </tr>\n",
       "    <tr>\n",
       "      <th>1006</th>\n",
       "      <td>mannoprotein biosynthetic process</td>\n",
       "      <td>0.000000</td>\n",
       "    </tr>\n",
       "    <tr>\n",
       "      <th>2982</th>\n",
       "      <td>protein C-linked glycosylation via tryptophan</td>\n",
       "      <td>0.000000</td>\n",
       "    </tr>\n",
       "    <tr>\n",
       "      <th>8169</th>\n",
       "      <td>trachea submucosa development</td>\n",
       "      <td>0.000000</td>\n",
       "    </tr>\n",
       "    <tr>\n",
       "      <th>10115</th>\n",
       "      <td>regulation of hypoxia-inducible factor-1alpha ...</td>\n",
       "      <td>0.000000</td>\n",
       "    </tr>\n",
       "    <tr>\n",
       "      <th>11380</th>\n",
       "      <td>lipoxin A4 biosynthetic process</td>\n",
       "      <td>0.000000</td>\n",
       "    </tr>\n",
       "  </tbody>\n",
       "</table>\n",
       "<p>11381 rows × 2 columns</p>\n",
       "</div>"
      ],
      "text/plain": [
       "                                             target_node     score\n",
       "4751     ionotropic glutamate receptor signaling pathway  1.091022\n",
       "2530                               ubiquitin homeostasis  1.038370\n",
       "1783                                           digestion  0.971243\n",
       "7663                          membrane hyperpolarization  0.948960\n",
       "1485                         Golgi to endosome transport  0.907327\n",
       "1901        hormone-mediated apoptotic signaling pathway  0.903992\n",
       "10834       G-protein coupled receptor catabolic process  0.745224\n",
       "1665                glutamate receptor signaling pathway  0.741791\n",
       "1647   adenylate cyclase-inhibiting G-protein coupled...  0.703113\n",
       "1664           gamma-aminobutyric acid signaling pathway  0.686195\n",
       "8864                    cellular potassium ion transport  0.638380\n",
       "8865               potassium ion transmembrane transport  0.638380\n",
       "7115   positive regulation of membrane protein ectodo...  0.618339\n",
       "1483               post-Golgi vesicle-mediated transport  0.593439\n",
       "38                                          MAPK cascade  0.590967\n",
       "7721                              definitive hemopoiesis  0.590107\n",
       "4934   glial cell-derived neurotrophic factor recepto...  0.586304\n",
       "7698   phospholipase C-activating dopamine receptor s...  0.574513\n",
       "1437                             potassium ion transport  0.573239\n",
       "1194                          glycyl-tRNA aminoacylation  0.567616\n",
       "1689           small GTPase mediated signal transduction  0.560185\n",
       "9854         regulation of long term synaptic depression  0.544265\n",
       "3427      signal transduction by protein phosphorylation  0.535914\n",
       "2198                                potassium ion import  0.534864\n",
       "3032                 cytokine-mediated signaling pathway  0.527236\n",
       "3429                  termination of signal transduction  0.524497\n",
       "964                        glycogen biosynthetic process  0.512390\n",
       "2045                         glucan biosynthetic process  0.512390\n",
       "5222             retrograde transport, endosome to Golgi  0.502287\n",
       "8308                chemokine-mediated signaling pathway  0.485768\n",
       "...                                                  ...       ...\n",
       "1035                      succinyl-CoA metabolic process  0.000000\n",
       "2968                    peptidyl-tryptophan modification  0.000000\n",
       "1045                                      NADH oxidation  0.000000\n",
       "1048   mitochondrial electron transport, succinate to...  0.000000\n",
       "1059                       purine ribonucleoside salvage  0.000000\n",
       "10104                              L-histidine transport  0.000000\n",
       "1011                UDP-glucuronate biosynthetic process  0.000000\n",
       "995                             chitin catabolic process  0.000000\n",
       "1003               N-acetylmannosamine metabolic process  0.000000\n",
       "8144                          ciliary body morphogenesis  0.000000\n",
       "8145             regulation of neural retina development  0.000000\n",
       "998                N-acetylglucosamine metabolic process  0.000000\n",
       "999             N-acetylglucosamine biosynthetic process  0.000000\n",
       "1000           UDP-N-acetylglucosamine metabolic process  0.000000\n",
       "2995                          biphenyl metabolic process  0.000000\n",
       "1001        UDP-N-acetylglucosamine biosynthetic process  0.000000\n",
       "1002                       mannosamine metabolic process  0.000000\n",
       "8155            regulation of phospholipid translocation  0.000000\n",
       "8156   positive regulation of phospholipid translocation  0.000000\n",
       "8170                           trachea gland development  0.000000\n",
       "2993   protein C-linked glycosylation via 2'-alpha-ma...  0.000000\n",
       "2984                               protein farnesylation  0.000000\n",
       "10121              positive regulation of sperm motility  0.000000\n",
       "1004               N-acetylneuraminate metabolic process  0.000000\n",
       "1005                      mannoprotein metabolic process  0.000000\n",
       "1006                   mannoprotein biosynthetic process  0.000000\n",
       "2982       protein C-linked glycosylation via tryptophan  0.000000\n",
       "8169                       trachea submucosa development  0.000000\n",
       "10115  regulation of hypoxia-inducible factor-1alpha ...  0.000000\n",
       "11380                    lipoxin A4 biosynthetic process  0.000000\n",
       "\n",
       "[11381 rows x 2 columns]"
      ]
     },
     "execution_count": 163,
     "metadata": {},
     "output_type": "execute_result"
    }
   ],
   "source": [
    "target_df"
   ]
  },
  {
   "cell_type": "code",
   "execution_count": null,
   "metadata": {
    "collapsed": true
   },
   "outputs": [],
   "source": []
  }
 ],
 "metadata": {
  "kernelspec": {
   "display_name": "Python 3",
   "language": "python",
   "name": "python3"
  },
  "language_info": {
   "codemirror_mode": {
    "name": "ipython",
    "version": 3
   },
   "file_extension": ".py",
   "mimetype": "text/x-python",
   "name": "python",
   "nbconvert_exporter": "python",
   "pygments_lexer": "ipython3",
   "version": "3.5.1"
  }
 },
 "nbformat": 4,
 "nbformat_minor": 2
}
