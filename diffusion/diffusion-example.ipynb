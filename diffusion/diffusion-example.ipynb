{
 "cells": [
  {
   "cell_type": "code",
   "execution_count": 62,
   "metadata": {
    "collapsed": true
   },
   "outputs": [],
   "source": [
    "import collections\n",
    "\n",
    "import numpy\n",
    "import pandas\n",
    "from neo4j.v1 import GraphDatabase\n",
    "import hetio.readwrite\n",
    "import hetio.hetnet"
   ]
  },
  {
   "cell_type": "code",
   "execution_count": null,
   "metadata": {
    "collapsed": true
   },
   "outputs": [],
   "source": [
    "#url = 'https://github.com/dhimmel/hetionet/blob/76550e6c93fbe92124edc71725e8c7dd4ca8b1f5/hetnet/json/hetionet-v1.0-metagraph.json'"
   ]
  },
  {
   "cell_type": "code",
   "execution_count": 3,
   "metadata": {
    "collapsed": false
   },
   "outputs": [
    {
     "name": "stdout",
     "output_type": "stream",
     "text": [
      "CPU times: user 1min 18s, sys: 1.95 s, total: 1min 20s\n",
      "Wall time: 1min 21s\n"
     ]
    }
   ],
   "source": [
    "%%time\n",
    "url = 'https://github.com/dhimmel/hetionet/raw/76550e6c93fbe92124edc71725e8c7dd4ca8b1f5/hetnet/json/hetionet-v1.0.json.bz2'\n",
    "graph = hetio.readwrite.read_graph(url)"
   ]
  },
  {
   "cell_type": "code",
   "execution_count": 9,
   "metadata": {
    "collapsed": false
   },
   "outputs": [
    {
     "data": {
      "text/plain": [
       "['Side Effect',\n",
       " 'Disease',\n",
       " 'Symptom',\n",
       " 'Cellular Component',\n",
       " 'Biological Process',\n",
       " 'Molecular Function',\n",
       " 'Pathway',\n",
       " 'Anatomy',\n",
       " 'Pharmacologic Class',\n",
       " 'Compound',\n",
       " 'Gene']"
      ]
     },
     "execution_count": 9,
     "metadata": {},
     "output_type": "execute_result"
    }
   ],
   "source": [
    "metagraph = graph.metagraph\n",
    "list(metagraph.node_dict)"
   ]
  },
  {
   "cell_type": "code",
   "execution_count": 10,
   "metadata": {
    "collapsed": true
   },
   "outputs": [],
   "source": [
    "metanode_to_nodes = graph.get_metanode_to_nodes()\n",
    "metaedge_to_edges = graph.get_metaedge_to_edges()"
   ]
  },
  {
   "cell_type": "code",
   "execution_count": 15,
   "metadata": {
    "collapsed": false
   },
   "outputs": [],
   "source": [
    "disease = metagraph.get_node('Disease')"
   ]
  },
  {
   "cell_type": "code",
   "execution_count": 18,
   "metadata": {
    "collapsed": false
   },
   "outputs": [],
   "source": [
    "diseases = metanode_to_nodes[disease]\n",
    "diseases.sort()"
   ]
  },
  {
   "cell_type": "code",
   "execution_count": 50,
   "metadata": {
    "collapsed": false
   },
   "outputs": [],
   "source": [
    "def get_node_to_position(graph, metanode):\n",
    "    \"\"\"\n",
    "    Given a metanode, return a dictionary of node to position\n",
    "    \"\"\"\n",
    "    if not isinstance(metanode, hetio.hetnet.MetaNode):\n",
    "        # metanode is a name\n",
    "        metanode = graph.node_dict(metanode)\n",
    "    metanode_to_nodes = graph.get_metanode_to_nodes()\n",
    "    nodes = sorted(metanode_to_nodes[metanode])\n",
    "    node_to_position = collections.OrderedDict((n, i) for i, n in enumerate(nodes))\n",
    "    return node_to_position\n",
    "\n",
    "def metaedge_to_adjacency_matrix(graph, metaedge):\n",
    "    \"\"\"\n",
    "    Returns an adjacency matrix where source nodes are columns and target nodes are rows\n",
    "    \"\"\"\n",
    "    if not isinstance(metaedge, hetio.hetnet.MetaEdge):\n",
    "        # metaedge is an abbreviation\n",
    "        metaedge = metagraph.metapath_from_abbrev(metaedge)[0]\n",
    "    source_nodes = list(get_node_to_position(graph, metaedge.source))\n",
    "    target_node_to_position = get_node_to_position(graph, metaedge.target)\n",
    "    adjacency_matrix = numpy.zeros((len(target_node_to_position), len(source_nodes)))\n",
    "    for j, source_node in enumerate(source_nodes):\n",
    "        for edge in source_node.edges[metaedge]:\n",
    "            i = target_node_to_position[edge.target]\n",
    "            adjacency_matrix[i, j] = 1\n",
    "    return adjacency_matrix"
   ]
  },
  {
   "cell_type": "code",
   "execution_count": 51,
   "metadata": {
    "collapsed": false
   },
   "outputs": [
    {
     "data": {
      "text/plain": [
       "(20945, 137)"
      ]
     },
     "execution_count": 51,
     "metadata": {},
     "output_type": "execute_result"
    }
   ],
   "source": [
    "adjacency_matrix = metaedge_to_adjacency_matrix(graph, 'DaG')\n",
    "adjacency_matrix.shape"
   ]
  },
  {
   "cell_type": "code",
   "execution_count": 32,
   "metadata": {
    "collapsed": false
   },
   "outputs": [
    {
     "data": {
      "text/plain": [
       "20945"
      ]
     },
     "execution_count": 32,
     "metadata": {},
     "output_type": "execute_result"
    }
   ],
   "source": [
    "metaedge = metagraph.metapath_from_abbrev('GaD')[0]\n",
    "source_nodes = sorted(metanode_to_nodes[metaedge.source])\n",
    "target_nodes = sorted(metanode_to_nodes[metaedge.target])\n",
    "len(source_nodes)"
   ]
  },
  {
   "cell_type": "code",
   "execution_count": 35,
   "metadata": {
    "collapsed": false
   },
   "outputs": [
    {
     "name": "stdout",
     "output_type": "stream",
     "text": [
      "Gene::1\n"
     ]
    }
   ],
   "source": [
    "A1BG = source_nodes[0]\n",
    "print(A1BG)"
   ]
  },
  {
   "cell_type": "code",
   "execution_count": 38,
   "metadata": {
    "collapsed": false
   },
   "outputs": [
    {
     "name": "stdout",
     "output_type": "stream",
     "text": [
      "Disease::DOID:12185\n"
     ]
    }
   ],
   "source": [
    "for edge in A1BG.edges[metaedge]:\n",
    "    print(edge.target)"
   ]
  },
  {
   "cell_type": "code",
   "execution_count": 28,
   "metadata": {
    "collapsed": false
   },
   "outputs": [
    {
     "name": "stdout",
     "output_type": "stream",
     "text": [
      "Gene - associates - Disease\n"
     ]
    }
   ],
   "source": [
    "print(metaedge)"
   ]
  },
  {
   "cell_type": "code",
   "execution_count": 53,
   "metadata": {
    "collapsed": false
   },
   "outputs": [
    {
     "data": {
      "text/plain": [
       "GiGpPW"
      ]
     },
     "execution_count": 53,
     "metadata": {},
     "output_type": "execute_result"
    }
   ],
   "source": []
  },
  {
   "cell_type": "code",
   "execution_count": 56,
   "metadata": {
    "collapsed": false
   },
   "outputs": [
    {
     "data": {
      "text/plain": [
       "<hetio.hetnet.MetaNode at 0x7f56c1c37cc0>"
      ]
     },
     "execution_count": 56,
     "metadata": {},
     "output_type": "execute_result"
    }
   ],
   "source": []
  },
  {
   "cell_type": "code",
   "execution_count": 75,
   "metadata": {
    "collapsed": true
   },
   "outputs": [],
   "source": [
    "def column_normalize(matrix):\n",
    "    \"\"\"\n",
    "    Column normalize a 2d numpy array\n",
    "    \"\"\"\n",
    "    #row_sums = matrix.sum(axis=1)\n",
    "    #return matrix / row_sums[:, numpy.newaxis]\n",
    "    matrix = matrix.copy()\n",
    "    n_rows, n_cols = matrix.shape\n",
    "    for j in range(n_cols):\n",
    "        column_sum = matrix[:, j].sum()\n",
    "        if column_sum != 0:\n",
    "            matrix[:, j] /= column_sum\n",
    "    return matrix\n",
    "\n",
    "\n",
    "def diffuse_along_metapath(graph, metapath, source_node_weights):\n",
    "    \"\"\"\n",
    "    Parameters\n",
    "    ==========\n",
    "    graph : hetio.hetnet.Graph\n",
    "        graph to extract adjacency matrixes along\n",
    "    metapath : hetio.hetnet.MetaPath\n",
    "        metapath to diffuse along\n",
    "    source_node_weights : dict\n",
    "        dictionary of node to weight. Nodes not in dict are zero-weighted\n",
    "    \"\"\"\n",
    "    \n",
    "    # Initialize node weights\n",
    "    source_metanode = metapath.source()\n",
    "    source_node_to_position = get_node_to_position(graph, source_metanode)\n",
    "    node_scores = numpy.zeros(len(source_node_to_position))\n",
    "    for source_node, weight in source_node_weights.items():\n",
    "        i = source_node_to_position[source_node]\n",
    "        node_scores[i] = weight\n",
    "    \n",
    "    for metaedge in metapath:\n",
    "        adjacency_matrix = metaedge_to_adjacency_matrix(graph, metaedge)\n",
    "        # make columns sum to 1\n",
    "        # normalized_adjacency_matrix = column_normalize(adjacency_matrix)\n",
    "        # Can use @ in Python 3.5+ https://www.python.org/dev/peps/pep-0465/\n",
    "        node_scores = normalized_adjacency_matrix.dot(node_scores)\n",
    "    \n",
    "    target_metanode = metapath.target()\n",
    "    target_node_to_position = get_node_to_position(graph, target_metanode)\n",
    "    node_to_score = collections.OrderedDict(zip(target_node_to_position, node_scores))\n",
    "    return node_to_score"
   ]
  },
  {
   "cell_type": "code",
   "execution_count": 68,
   "metadata": {
    "collapsed": false
   },
   "outputs": [
    {
     "data": {
      "text/html": [
       "<div>\n",
       "<table border=\"1\" class=\"dataframe\">\n",
       "  <thead>\n",
       "    <tr style=\"text-align: right;\">\n",
       "      <th></th>\n",
       "      <th>gene_symbol</th>\n",
       "      <th>gene_name</th>\n",
       "      <th>entrez_gene_id</th>\n",
       "      <th>sources</th>\n",
       "    </tr>\n",
       "  </thead>\n",
       "  <tbody>\n",
       "    <tr>\n",
       "      <th>0</th>\n",
       "      <td>ABAT</td>\n",
       "      <td>4-aminobutyrate aminotransferase</td>\n",
       "      <td>18</td>\n",
       "      <td>[DisGeNET]</td>\n",
       "    </tr>\n",
       "    <tr>\n",
       "      <th>1</th>\n",
       "      <td>ABCB1</td>\n",
       "      <td>ATP-binding cassette, sub-family B (MDR/TAP), ...</td>\n",
       "      <td>5243</td>\n",
       "      <td>[DISEASES, DOAF, DisGeNET]</td>\n",
       "    </tr>\n",
       "    <tr>\n",
       "      <th>2</th>\n",
       "      <td>ABCC2</td>\n",
       "      <td>ATP-binding cassette, sub-family C (CFTR/MRP),...</td>\n",
       "      <td>1244</td>\n",
       "      <td>[DisGeNET]</td>\n",
       "    </tr>\n",
       "    <tr>\n",
       "      <th>3</th>\n",
       "      <td>ABCG2</td>\n",
       "      <td>ATP-binding cassette, sub-family G (WHITE), me...</td>\n",
       "      <td>9429</td>\n",
       "      <td>[DisGeNET]</td>\n",
       "    </tr>\n",
       "    <tr>\n",
       "      <th>4</th>\n",
       "      <td>ACKR4</td>\n",
       "      <td>atypical chemokine receptor 4</td>\n",
       "      <td>51554</td>\n",
       "      <td>[DISEASES]</td>\n",
       "    </tr>\n",
       "  </tbody>\n",
       "</table>\n",
       "</div>"
      ],
      "text/plain": [
       "  gene_symbol                                          gene_name  \\\n",
       "0        ABAT                   4-aminobutyrate aminotransferase   \n",
       "1       ABCB1  ATP-binding cassette, sub-family B (MDR/TAP), ...   \n",
       "2       ABCC2  ATP-binding cassette, sub-family C (CFTR/MRP),...   \n",
       "3       ABCG2  ATP-binding cassette, sub-family G (WHITE), me...   \n",
       "4       ACKR4                      atypical chemokine receptor 4   \n",
       "\n",
       "   entrez_gene_id                     sources  \n",
       "0              18                  [DisGeNET]  \n",
       "1            5243  [DISEASES, DOAF, DisGeNET]  \n",
       "2            1244                  [DisGeNET]  \n",
       "3            9429                  [DisGeNET]  \n",
       "4           51554                  [DISEASES]  "
      ]
     },
     "execution_count": 68,
     "metadata": {},
     "output_type": "execute_result"
    }
   ],
   "source": [
    "# Uses the official neo4j-python-driver. See https://github.com/neo4j/neo4j-python-driver\n",
    "\n",
    "query = '''\n",
    "MATCH (disease:Disease)-[assoc:ASSOCIATES_DaG]-(gene:Gene)\n",
    "WHERE disease.name = 'epilepsy syndrome'\n",
    "RETURN\n",
    " gene.name AS gene_symbol,\n",
    " gene.description AS gene_name,\n",
    " gene.identifier AS entrez_gene_id,\n",
    " assoc.sources AS sources\n",
    "ORDER BY gene_symbol\n",
    "'''\n",
    "\n",
    "driver = GraphDatabase.driver(\"bolt://neo4j.het.io\")\n",
    "with driver.session() as session:\n",
    "    result = session.run(query)\n",
    "    gene_df = pandas.DataFrame((x.values() for x in result), columns=result.keys())\n",
    "\n",
    "gene_df.head()"
   ]
  },
  {
   "cell_type": "code",
   "execution_count": 69,
   "metadata": {
    "collapsed": false
   },
   "outputs": [
    {
     "data": {
      "text/plain": [
       "399"
      ]
     },
     "execution_count": 69,
     "metadata": {},
     "output_type": "execute_result"
    }
   ],
   "source": [
    "epilepsy_genes = list()\n",
    "for entrez_gene_id in gene_df.entrez_gene_id:\n",
    "    node_id = 'Gene', entrez_gene_id\n",
    "    node = graph.node_dict.get(node_id)\n",
    "    if node:\n",
    "        epilepsy_genes.append(node)\n",
    "len(epilepsy_genes)"
   ]
  },
  {
   "cell_type": "code",
   "execution_count": 88,
   "metadata": {
    "collapsed": false
   },
   "outputs": [],
   "source": [
    "metapath = metagraph.metapath_from_abbrev('GiGpBP')\n",
    "source_node_weights = {gene: 1 for gene in epilepsy_genes}\n",
    "pathway_scores = diffuse_along_metapath(graph, metapath, source_node_weights)\n",
    "rows = [(pathway.name, score) for pathway, score in pathway_scores.items()]\n",
    "target_df = pandas.DataFrame(rows, columns=['target_node', 'score'])\n",
    "target_df = target_df.sort_values('score', ascending=False)"
   ]
  },
  {
   "cell_type": "code",
   "execution_count": 89,
   "metadata": {
    "collapsed": false
   },
   "outputs": [
    {
     "data": {
      "text/plain": [
       "11381"
      ]
     },
     "execution_count": 89,
     "metadata": {},
     "output_type": "execute_result"
    }
   ],
   "source": [
    "len(target_df)"
   ]
  },
  {
   "cell_type": "code",
   "execution_count": 90,
   "metadata": {
    "collapsed": false
   },
   "outputs": [
    {
     "data": {
      "text/plain": [
       "364.67989013923687"
      ]
     },
     "execution_count": 90,
     "metadata": {},
     "output_type": "execute_result"
    }
   ],
   "source": [
    "sum(target_df.score)"
   ]
  },
  {
   "cell_type": "code",
   "execution_count": 91,
   "metadata": {
    "collapsed": false
   },
   "outputs": [
    {
     "data": {
      "text/plain": [
       "GiGpBP"
      ]
     },
     "execution_count": 91,
     "metadata": {},
     "output_type": "execute_result"
    }
   ],
   "source": [
    "metapath"
   ]
  },
  {
   "cell_type": "code",
   "execution_count": 92,
   "metadata": {
    "collapsed": false
   },
   "outputs": [
    {
     "data": {
      "text/html": [
       "<div>\n",
       "<table border=\"1\" class=\"dataframe\">\n",
       "  <thead>\n",
       "    <tr style=\"text-align: right;\">\n",
       "      <th></th>\n",
       "      <th>target_node</th>\n",
       "      <th>score</th>\n",
       "    </tr>\n",
       "  </thead>\n",
       "  <tbody>\n",
       "    <tr>\n",
       "      <th>1692</th>\n",
       "      <td>cell-cell signaling</td>\n",
       "      <td>1.451621</td>\n",
       "    </tr>\n",
       "    <tr>\n",
       "      <th>1216</th>\n",
       "      <td>protein phosphorylation</td>\n",
       "      <td>1.262194</td>\n",
       "    </tr>\n",
       "    <tr>\n",
       "      <th>9717</th>\n",
       "      <td>trans-synaptic signaling</td>\n",
       "      <td>1.165169</td>\n",
       "    </tr>\n",
       "    <tr>\n",
       "      <th>9716</th>\n",
       "      <td>synaptic signaling</td>\n",
       "      <td>1.165169</td>\n",
       "    </tr>\n",
       "    <tr>\n",
       "      <th>1693</th>\n",
       "      <td>synaptic transmission</td>\n",
       "      <td>1.165169</td>\n",
       "    </tr>\n",
       "    <tr>\n",
       "      <th>1152</th>\n",
       "      <td>transcription from RNA polymerase II promoter</td>\n",
       "      <td>1.149149</td>\n",
       "    </tr>\n",
       "    <tr>\n",
       "      <th>8483</th>\n",
       "      <td>protein modification by small protein conjugat...</td>\n",
       "      <td>1.092309</td>\n",
       "    </tr>\n",
       "    <tr>\n",
       "      <th>8115</th>\n",
       "      <td>membrane organization</td>\n",
       "      <td>1.013402</td>\n",
       "    </tr>\n",
       "    <tr>\n",
       "      <th>4051</th>\n",
       "      <td>protein modification by small protein conjugation</td>\n",
       "      <td>0.907329</td>\n",
       "    </tr>\n",
       "    <tr>\n",
       "      <th>4510</th>\n",
       "      <td>response to cytokine</td>\n",
       "      <td>0.897850</td>\n",
       "    </tr>\n",
       "    <tr>\n",
       "      <th>1689</th>\n",
       "      <td>small GTPase mediated signal transduction</td>\n",
       "      <td>0.890182</td>\n",
       "    </tr>\n",
       "    <tr>\n",
       "      <th>1783</th>\n",
       "      <td>digestion</td>\n",
       "      <td>0.840125</td>\n",
       "    </tr>\n",
       "    <tr>\n",
       "      <th>2214</th>\n",
       "      <td>response to organonitrogen compound</td>\n",
       "      <td>0.839171</td>\n",
       "    </tr>\n",
       "    <tr>\n",
       "      <th>1629</th>\n",
       "      <td>transmembrane receptor protein tyrosine kinase...</td>\n",
       "      <td>0.815596</td>\n",
       "    </tr>\n",
       "    <tr>\n",
       "      <th>4556</th>\n",
       "      <td>ion transmembrane transport</td>\n",
       "      <td>0.804452</td>\n",
       "    </tr>\n",
       "    <tr>\n",
       "      <th>1509</th>\n",
       "      <td>chemotaxis</td>\n",
       "      <td>0.798345</td>\n",
       "    </tr>\n",
       "    <tr>\n",
       "      <th>5275</th>\n",
       "      <td>taxis</td>\n",
       "      <td>0.798345</td>\n",
       "    </tr>\n",
       "    <tr>\n",
       "      <th>1883</th>\n",
       "      <td>epidermis development</td>\n",
       "      <td>0.797708</td>\n",
       "    </tr>\n",
       "    <tr>\n",
       "      <th>6979</th>\n",
       "      <td>regulation of immune response</td>\n",
       "      <td>0.796326</td>\n",
       "    </tr>\n",
       "    <tr>\n",
       "      <th>7256</th>\n",
       "      <td>positive regulation of hydrolase activity</td>\n",
       "      <td>0.788366</td>\n",
       "    </tr>\n",
       "    <tr>\n",
       "      <th>5855</th>\n",
       "      <td>symbiosis, encompassing mutualism through para...</td>\n",
       "      <td>0.786143</td>\n",
       "    </tr>\n",
       "    <tr>\n",
       "      <th>5861</th>\n",
       "      <td>interspecies interaction between organisms</td>\n",
       "      <td>0.786143</td>\n",
       "    </tr>\n",
       "    <tr>\n",
       "      <th>4303</th>\n",
       "      <td>cell part morphogenesis</td>\n",
       "      <td>0.784253</td>\n",
       "    </tr>\n",
       "    <tr>\n",
       "      <th>34</th>\n",
       "      <td>negative regulation of transcription from RNA ...</td>\n",
       "      <td>0.781379</td>\n",
       "    </tr>\n",
       "    <tr>\n",
       "      <th>5887</th>\n",
       "      <td>multi-organism cellular process</td>\n",
       "      <td>0.765937</td>\n",
       "    </tr>\n",
       "    <tr>\n",
       "      <th>1090</th>\n",
       "      <td>DNA metabolic process</td>\n",
       "      <td>0.763840</td>\n",
       "    </tr>\n",
       "    <tr>\n",
       "      <th>3747</th>\n",
       "      <td>neuron projection development</td>\n",
       "      <td>0.763410</td>\n",
       "    </tr>\n",
       "    <tr>\n",
       "      <th>2789</th>\n",
       "      <td>viral process</td>\n",
       "      <td>0.759631</td>\n",
       "    </tr>\n",
       "    <tr>\n",
       "      <th>8675</th>\n",
       "      <td>cellular response to cytokine stimulus</td>\n",
       "      <td>0.756631</td>\n",
       "    </tr>\n",
       "    <tr>\n",
       "      <th>1915</th>\n",
       "      <td>macromolecule catabolic process</td>\n",
       "      <td>0.752981</td>\n",
       "    </tr>\n",
       "    <tr>\n",
       "      <th>...</th>\n",
       "      <td>...</td>\n",
       "      <td>...</td>\n",
       "    </tr>\n",
       "    <tr>\n",
       "      <th>2719</th>\n",
       "      <td>histidine transport</td>\n",
       "      <td>0.000000</td>\n",
       "    </tr>\n",
       "    <tr>\n",
       "      <th>2718</th>\n",
       "      <td>glycine transport</td>\n",
       "      <td>0.000000</td>\n",
       "    </tr>\n",
       "    <tr>\n",
       "      <th>7149</th>\n",
       "      <td>hepoxilin metabolic process</td>\n",
       "      <td>0.000000</td>\n",
       "    </tr>\n",
       "    <tr>\n",
       "      <th>2752</th>\n",
       "      <td>coenzyme A transport</td>\n",
       "      <td>0.000000</td>\n",
       "    </tr>\n",
       "    <tr>\n",
       "      <th>827</th>\n",
       "      <td>determination of left/right asymmetry in later...</td>\n",
       "      <td>0.000000</td>\n",
       "    </tr>\n",
       "    <tr>\n",
       "      <th>2753</th>\n",
       "      <td>creatine transport</td>\n",
       "      <td>0.000000</td>\n",
       "    </tr>\n",
       "    <tr>\n",
       "      <th>2772</th>\n",
       "      <td>coenzyme A catabolic process</td>\n",
       "      <td>0.000000</td>\n",
       "    </tr>\n",
       "    <tr>\n",
       "      <th>2814</th>\n",
       "      <td>polyprenol biosynthetic process</td>\n",
       "      <td>0.000000</td>\n",
       "    </tr>\n",
       "    <tr>\n",
       "      <th>2808</th>\n",
       "      <td>tRNA catabolic process</td>\n",
       "      <td>0.000000</td>\n",
       "    </tr>\n",
       "    <tr>\n",
       "      <th>2801</th>\n",
       "      <td>adaptation of rhodopsin mediated signaling</td>\n",
       "      <td>0.000000</td>\n",
       "    </tr>\n",
       "    <tr>\n",
       "      <th>2787</th>\n",
       "      <td>CDP-diacylglycerol biosynthetic process</td>\n",
       "      <td>0.000000</td>\n",
       "    </tr>\n",
       "    <tr>\n",
       "      <th>2786</th>\n",
       "      <td>molecular hydrogen transport</td>\n",
       "      <td>0.000000</td>\n",
       "    </tr>\n",
       "    <tr>\n",
       "      <th>9925</th>\n",
       "      <td>regulation of heart looping</td>\n",
       "      <td>0.000000</td>\n",
       "    </tr>\n",
       "    <tr>\n",
       "      <th>7056</th>\n",
       "      <td>detection of chemical stimulus involved in sen...</td>\n",
       "      <td>0.000000</td>\n",
       "    </tr>\n",
       "    <tr>\n",
       "      <th>7057</th>\n",
       "      <td>sensory perception of bitter taste</td>\n",
       "      <td>0.000000</td>\n",
       "    </tr>\n",
       "    <tr>\n",
       "      <th>7059</th>\n",
       "      <td>sensory perception of sweet taste</td>\n",
       "      <td>0.000000</td>\n",
       "    </tr>\n",
       "    <tr>\n",
       "      <th>7060</th>\n",
       "      <td>sensory perception of umami taste</td>\n",
       "      <td>0.000000</td>\n",
       "    </tr>\n",
       "    <tr>\n",
       "      <th>2765</th>\n",
       "      <td>fatty-acyl-CoA transport</td>\n",
       "      <td>0.000000</td>\n",
       "    </tr>\n",
       "    <tr>\n",
       "      <th>2754</th>\n",
       "      <td>L-ascorbic acid transport</td>\n",
       "      <td>0.000000</td>\n",
       "    </tr>\n",
       "    <tr>\n",
       "      <th>2763</th>\n",
       "      <td>peroxisomal long-chain fatty acid import</td>\n",
       "      <td>0.000000</td>\n",
       "    </tr>\n",
       "    <tr>\n",
       "      <th>820</th>\n",
       "      <td>detection of nodal flow</td>\n",
       "      <td>0.000000</td>\n",
       "    </tr>\n",
       "    <tr>\n",
       "      <th>7088</th>\n",
       "      <td>dimethylallyl diphosphate biosynthetic process</td>\n",
       "      <td>0.000000</td>\n",
       "    </tr>\n",
       "    <tr>\n",
       "      <th>9899</th>\n",
       "      <td>positive regulation of relaxation of muscle</td>\n",
       "      <td>0.000000</td>\n",
       "    </tr>\n",
       "    <tr>\n",
       "      <th>7089</th>\n",
       "      <td>dimethylallyl diphosphate metabolic process</td>\n",
       "      <td>0.000000</td>\n",
       "    </tr>\n",
       "    <tr>\n",
       "      <th>2757</th>\n",
       "      <td>thiamine transport</td>\n",
       "      <td>0.000000</td>\n",
       "    </tr>\n",
       "    <tr>\n",
       "      <th>9896</th>\n",
       "      <td>regulation of engulfment of apoptotic cell</td>\n",
       "      <td>0.000000</td>\n",
       "    </tr>\n",
       "    <tr>\n",
       "      <th>9895</th>\n",
       "      <td>glucosamine-containing compound biosynthetic p...</td>\n",
       "      <td>0.000000</td>\n",
       "    </tr>\n",
       "    <tr>\n",
       "      <th>9894</th>\n",
       "      <td>glucosamine-containing compound catabolic process</td>\n",
       "      <td>0.000000</td>\n",
       "    </tr>\n",
       "    <tr>\n",
       "      <th>2755</th>\n",
       "      <td>folic acid transport</td>\n",
       "      <td>0.000000</td>\n",
       "    </tr>\n",
       "    <tr>\n",
       "      <th>11380</th>\n",
       "      <td>lipoxin A4 biosynthetic process</td>\n",
       "      <td>0.000000</td>\n",
       "    </tr>\n",
       "  </tbody>\n",
       "</table>\n",
       "<p>11381 rows × 2 columns</p>\n",
       "</div>"
      ],
      "text/plain": [
       "                                             target_node     score\n",
       "1692                                 cell-cell signaling  1.451621\n",
       "1216                             protein phosphorylation  1.262194\n",
       "9717                            trans-synaptic signaling  1.165169\n",
       "9716                                  synaptic signaling  1.165169\n",
       "1693                               synaptic transmission  1.165169\n",
       "1152       transcription from RNA polymerase II promoter  1.149149\n",
       "8483   protein modification by small protein conjugat...  1.092309\n",
       "8115                               membrane organization  1.013402\n",
       "4051   protein modification by small protein conjugation  0.907329\n",
       "4510                                response to cytokine  0.897850\n",
       "1689           small GTPase mediated signal transduction  0.890182\n",
       "1783                                           digestion  0.840125\n",
       "2214                 response to organonitrogen compound  0.839171\n",
       "1629   transmembrane receptor protein tyrosine kinase...  0.815596\n",
       "4556                         ion transmembrane transport  0.804452\n",
       "1509                                          chemotaxis  0.798345\n",
       "5275                                               taxis  0.798345\n",
       "1883                               epidermis development  0.797708\n",
       "6979                       regulation of immune response  0.796326\n",
       "7256           positive regulation of hydrolase activity  0.788366\n",
       "5855   symbiosis, encompassing mutualism through para...  0.786143\n",
       "5861          interspecies interaction between organisms  0.786143\n",
       "4303                             cell part morphogenesis  0.784253\n",
       "34     negative regulation of transcription from RNA ...  0.781379\n",
       "5887                     multi-organism cellular process  0.765937\n",
       "1090                               DNA metabolic process  0.763840\n",
       "3747                       neuron projection development  0.763410\n",
       "2789                                       viral process  0.759631\n",
       "8675              cellular response to cytokine stimulus  0.756631\n",
       "1915                     macromolecule catabolic process  0.752981\n",
       "...                                                  ...       ...\n",
       "2719                                 histidine transport  0.000000\n",
       "2718                                   glycine transport  0.000000\n",
       "7149                         hepoxilin metabolic process  0.000000\n",
       "2752                                coenzyme A transport  0.000000\n",
       "827    determination of left/right asymmetry in later...  0.000000\n",
       "2753                                  creatine transport  0.000000\n",
       "2772                        coenzyme A catabolic process  0.000000\n",
       "2814                     polyprenol biosynthetic process  0.000000\n",
       "2808                              tRNA catabolic process  0.000000\n",
       "2801          adaptation of rhodopsin mediated signaling  0.000000\n",
       "2787             CDP-diacylglycerol biosynthetic process  0.000000\n",
       "2786                        molecular hydrogen transport  0.000000\n",
       "9925                         regulation of heart looping  0.000000\n",
       "7056   detection of chemical stimulus involved in sen...  0.000000\n",
       "7057                  sensory perception of bitter taste  0.000000\n",
       "7059                   sensory perception of sweet taste  0.000000\n",
       "7060                   sensory perception of umami taste  0.000000\n",
       "2765                            fatty-acyl-CoA transport  0.000000\n",
       "2754                           L-ascorbic acid transport  0.000000\n",
       "2763            peroxisomal long-chain fatty acid import  0.000000\n",
       "820                              detection of nodal flow  0.000000\n",
       "7088      dimethylallyl diphosphate biosynthetic process  0.000000\n",
       "9899         positive regulation of relaxation of muscle  0.000000\n",
       "7089         dimethylallyl diphosphate metabolic process  0.000000\n",
       "2757                                  thiamine transport  0.000000\n",
       "9896          regulation of engulfment of apoptotic cell  0.000000\n",
       "9895   glucosamine-containing compound biosynthetic p...  0.000000\n",
       "9894   glucosamine-containing compound catabolic process  0.000000\n",
       "2755                                folic acid transport  0.000000\n",
       "11380                    lipoxin A4 biosynthetic process  0.000000\n",
       "\n",
       "[11381 rows x 2 columns]"
      ]
     },
     "execution_count": 92,
     "metadata": {},
     "output_type": "execute_result"
    }
   ],
   "source": [
    "target_df"
   ]
  },
  {
   "cell_type": "code",
   "execution_count": null,
   "metadata": {
    "collapsed": true
   },
   "outputs": [],
   "source": []
  }
 ],
 "metadata": {
  "kernelspec": {
   "display_name": "Python 3",
   "language": "python",
   "name": "python3"
  },
  "language_info": {
   "codemirror_mode": {
    "name": "ipython",
    "version": 3
   },
   "file_extension": ".py",
   "mimetype": "text/x-python",
   "name": "python",
   "nbconvert_exporter": "python",
   "pygments_lexer": "ipython3",
   "version": "3.5.1"
  }
 },
 "nbformat": 4,
 "nbformat_minor": 2
}
