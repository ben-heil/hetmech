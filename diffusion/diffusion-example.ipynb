{
 "cells": [
  {
   "cell_type": "code",
   "execution_count": 62,
   "metadata": {
    "collapsed": true
   },
   "outputs": [],
   "source": [
    "import collections\n",
    "\n",
    "import numpy\n",
    "import pandas\n",
    "from neo4j.v1 import GraphDatabase\n",
    "import hetio.readwrite\n",
    "import hetio.hetnet"
   ]
  },
  {
   "cell_type": "code",
   "execution_count": null,
   "metadata": {
    "collapsed": true
   },
   "outputs": [],
   "source": [
    "#url = 'https://github.com/dhimmel/hetionet/blob/76550e6c93fbe92124edc71725e8c7dd4ca8b1f5/hetnet/json/hetionet-v1.0-metagraph.json'"
   ]
  },
  {
   "cell_type": "code",
   "execution_count": 3,
   "metadata": {
    "collapsed": false
   },
   "outputs": [
    {
     "name": "stdout",
     "output_type": "stream",
     "text": [
      "CPU times: user 1min 18s, sys: 1.95 s, total: 1min 20s\n",
      "Wall time: 1min 21s\n"
     ]
    }
   ],
   "source": [
    "%%time\n",
    "url = 'https://github.com/dhimmel/hetionet/raw/76550e6c93fbe92124edc71725e8c7dd4ca8b1f5/hetnet/json/hetionet-v1.0.json.bz2'\n",
    "graph = hetio.readwrite.read_graph(url)"
   ]
  },
  {
   "cell_type": "code",
   "execution_count": 9,
   "metadata": {
    "collapsed": false
   },
   "outputs": [
    {
     "data": {
      "text/plain": [
       "['Side Effect',\n",
       " 'Disease',\n",
       " 'Symptom',\n",
       " 'Cellular Component',\n",
       " 'Biological Process',\n",
       " 'Molecular Function',\n",
       " 'Pathway',\n",
       " 'Anatomy',\n",
       " 'Pharmacologic Class',\n",
       " 'Compound',\n",
       " 'Gene']"
      ]
     },
     "execution_count": 9,
     "metadata": {},
     "output_type": "execute_result"
    }
   ],
   "source": [
    "metagraph = graph.metagraph\n",
    "list(metagraph.node_dict)"
   ]
  },
  {
   "cell_type": "code",
   "execution_count": 10,
   "metadata": {
    "collapsed": true
   },
   "outputs": [],
   "source": [
    "metanode_to_nodes = graph.get_metanode_to_nodes()\n",
    "metaedge_to_edges = graph.get_metaedge_to_edges()"
   ]
  },
  {
   "cell_type": "code",
   "execution_count": 15,
   "metadata": {
    "collapsed": false
   },
   "outputs": [],
   "source": [
    "disease = metagraph.get_node('Disease')"
   ]
  },
  {
   "cell_type": "code",
   "execution_count": 18,
   "metadata": {
    "collapsed": false
   },
   "outputs": [],
   "source": [
    "diseases = metanode_to_nodes[disease]\n",
    "diseases.sort()"
   ]
  },
  {
   "cell_type": "code",
   "execution_count": 50,
   "metadata": {
    "collapsed": false
   },
   "outputs": [],
   "source": [
    "def get_node_to_position(graph, metanode):\n",
    "    \"\"\"\n",
    "    Given a metanode, return a dictionary of node to position\n",
    "    \"\"\"\n",
    "    if not isinstance(metanode, hetio.hetnet.MetaNode):\n",
    "        # metanode is a name\n",
    "        metanode = graph.node_dict(metanode)\n",
    "    metanode_to_nodes = graph.get_metanode_to_nodes()\n",
    "    nodes = sorted(metanode_to_nodes[metanode])\n",
    "    node_to_position = collections.OrderedDict((n, i) for i, n in enumerate(nodes))\n",
    "    return node_to_position\n",
    "\n",
    "def metaedge_to_adjacency_matrix(graph, metaedge):\n",
    "    \"\"\"\n",
    "    Returns an adjacency matrix where source nodes are columns and target nodes are rows\n",
    "    \"\"\"\n",
    "    if not isinstance(metaedge, hetio.hetnet.MetaEdge):\n",
    "        # metaedge is an abbreviation\n",
    "        metaedge = metagraph.metapath_from_abbrev(metaedge)[0]\n",
    "    source_nodes = list(get_node_to_position(graph, metaedge.source))\n",
    "    target_node_to_position = get_node_to_position(graph, metaedge.target)\n",
    "    adjacency_matrix = numpy.zeros((len(target_node_to_position), len(source_nodes)))\n",
    "    for j, source_node in enumerate(source_nodes):\n",
    "        for edge in source_node.edges[metaedge]:\n",
    "            i = target_node_to_position[edge.target]\n",
    "            adjacency_matrix[i, j] = 1\n",
    "    return adjacency_matrix"
   ]
  },
  {
   "cell_type": "code",
   "execution_count": 51,
   "metadata": {
    "collapsed": false
   },
   "outputs": [
    {
     "data": {
      "text/plain": [
       "(20945, 137)"
      ]
     },
     "execution_count": 51,
     "metadata": {},
     "output_type": "execute_result"
    }
   ],
   "source": [
    "adjacency_matrix = metaedge_to_adjacency_matrix(graph, 'DaG')\n",
    "adjacency_matrix.shape"
   ]
  },
  {
   "cell_type": "code",
   "execution_count": 32,
   "metadata": {
    "collapsed": false
   },
   "outputs": [
    {
     "data": {
      "text/plain": [
       "20945"
      ]
     },
     "execution_count": 32,
     "metadata": {},
     "output_type": "execute_result"
    }
   ],
   "source": [
    "metaedge = metagraph.metapath_from_abbrev('GaD')[0]\n",
    "source_nodes = sorted(metanode_to_nodes[metaedge.source])\n",
    "target_nodes = sorted(metanode_to_nodes[metaedge.target])\n",
    "len(source_nodes)"
   ]
  },
  {
   "cell_type": "code",
   "execution_count": 35,
   "metadata": {
    "collapsed": false
   },
   "outputs": [
    {
     "name": "stdout",
     "output_type": "stream",
     "text": [
      "Gene::1\n"
     ]
    }
   ],
   "source": [
    "A1BG = source_nodes[0]\n",
    "print(A1BG)"
   ]
  },
  {
   "cell_type": "code",
   "execution_count": 38,
   "metadata": {
    "collapsed": false
   },
   "outputs": [
    {
     "name": "stdout",
     "output_type": "stream",
     "text": [
      "Disease::DOID:12185\n"
     ]
    }
   ],
   "source": [
    "for edge in A1BG.edges[metaedge]:\n",
    "    print(edge.target)"
   ]
  },
  {
   "cell_type": "code",
   "execution_count": 28,
   "metadata": {
    "collapsed": false
   },
   "outputs": [
    {
     "name": "stdout",
     "output_type": "stream",
     "text": [
      "Gene - associates - Disease\n"
     ]
    }
   ],
   "source": [
    "print(metaedge)"
   ]
  },
  {
   "cell_type": "code",
   "execution_count": 53,
   "metadata": {
    "collapsed": false
   },
   "outputs": [
    {
     "data": {
      "text/plain": [
       "GiGpPW"
      ]
     },
     "execution_count": 53,
     "metadata": {},
     "output_type": "execute_result"
    }
   ],
   "source": []
  },
  {
   "cell_type": "code",
   "execution_count": 56,
   "metadata": {
    "collapsed": false
   },
   "outputs": [
    {
     "data": {
      "text/plain": [
       "<hetio.hetnet.MetaNode at 0x7f56c1c37cc0>"
      ]
     },
     "execution_count": 56,
     "metadata": {},
     "output_type": "execute_result"
    }
   ],
   "source": []
  },
  {
   "cell_type": "code",
   "execution_count": 100,
   "metadata": {
    "collapsed": true
   },
   "outputs": [],
   "source": [
    "def column_normalize(matrix):\n",
    "    \"\"\"\n",
    "    Column normalize a 2d numpy array\n",
    "    \"\"\"\n",
    "    #row_sums = matrix.sum(axis=1)\n",
    "    #return matrix / row_sums[:, numpy.newaxis]\n",
    "    matrix = matrix.copy()\n",
    "    n_rows, n_cols = matrix.shape\n",
    "    for j in range(n_cols):\n",
    "        column_sum = matrix[:, j].sum()\n",
    "        if column_sum != 0:\n",
    "            matrix[:, j] /= column_sum\n",
    "    return matrix\n",
    "\n",
    "\n",
    "def diffuse_along_metapath(graph, metapath, source_node_weights):\n",
    "    \"\"\"\n",
    "    Parameters\n",
    "    ==========\n",
    "    graph : hetio.hetnet.Graph\n",
    "        graph to extract adjacency matrixes along\n",
    "    metapath : hetio.hetnet.MetaPath\n",
    "        metapath to diffuse along\n",
    "    source_node_weights : dict\n",
    "        dictionary of node to weight. Nodes not in dict are zero-weighted\n",
    "    \"\"\"\n",
    "    \n",
    "    # Initialize node weights\n",
    "    source_metanode = metapath.source()\n",
    "    source_node_to_position = get_node_to_position(graph, source_metanode)\n",
    "    node_scores = numpy.zeros(len(source_node_to_position))\n",
    "    for source_node, weight in source_node_weights.items():\n",
    "        i = source_node_to_position[source_node]\n",
    "        node_scores[i] = weight\n",
    "    \n",
    "    for metaedge in metapath:\n",
    "        adjacency_matrix = metaedge_to_adjacency_matrix(graph, metaedge)\n",
    "        # make columns sum to 1\n",
    "        # normalized_adjacency_matrix = column_normalize(adjacency_matrix)\n",
    "        # Can use @ in Python 3.5+ https://www.python.org/dev/peps/pep-0465/\n",
    "        # node_scores = normalized_adjacency_matrix.dot(node_scores)\n",
    "        node_scores = adjacency_matrix.dot(node_scores)\n",
    "        row_degrees = adjacency_matrix.sum(axis=0)\n",
    "        print(metaedge)\n",
    "        print(node_scores.shape)\n",
    "        print(row_degrees.shape)\n",
    "        print(adjacency_matrix.shape)\n",
    "        for j in range(len(row_degrees)):\n",
    "            val = row_degrees[j]\n",
    "            if val != 0:\n",
    "                node_scores[j] = node_scores[j] / row_degrees[j]\n",
    "    \n",
    "    target_metanode = metapath.target()\n",
    "    target_node_to_position = get_node_to_position(graph, target_metanode)\n",
    "    node_to_score = collections.OrderedDict(zip(target_node_to_position, node_scores))\n",
    "    return node_to_score"
   ]
  },
  {
   "cell_type": "code",
   "execution_count": 101,
   "metadata": {
    "collapsed": false
   },
   "outputs": [
    {
     "data": {
      "text/html": [
       "<div>\n",
       "<table border=\"1\" class=\"dataframe\">\n",
       "  <thead>\n",
       "    <tr style=\"text-align: right;\">\n",
       "      <th></th>\n",
       "      <th>gene_symbol</th>\n",
       "      <th>gene_name</th>\n",
       "      <th>entrez_gene_id</th>\n",
       "      <th>sources</th>\n",
       "    </tr>\n",
       "  </thead>\n",
       "  <tbody>\n",
       "    <tr>\n",
       "      <th>0</th>\n",
       "      <td>ABAT</td>\n",
       "      <td>4-aminobutyrate aminotransferase</td>\n",
       "      <td>18</td>\n",
       "      <td>[DisGeNET]</td>\n",
       "    </tr>\n",
       "    <tr>\n",
       "      <th>1</th>\n",
       "      <td>ABCB1</td>\n",
       "      <td>ATP-binding cassette, sub-family B (MDR/TAP), ...</td>\n",
       "      <td>5243</td>\n",
       "      <td>[DISEASES, DOAF, DisGeNET]</td>\n",
       "    </tr>\n",
       "    <tr>\n",
       "      <th>2</th>\n",
       "      <td>ABCC2</td>\n",
       "      <td>ATP-binding cassette, sub-family C (CFTR/MRP),...</td>\n",
       "      <td>1244</td>\n",
       "      <td>[DisGeNET]</td>\n",
       "    </tr>\n",
       "    <tr>\n",
       "      <th>3</th>\n",
       "      <td>ABCG2</td>\n",
       "      <td>ATP-binding cassette, sub-family G (WHITE), me...</td>\n",
       "      <td>9429</td>\n",
       "      <td>[DisGeNET]</td>\n",
       "    </tr>\n",
       "    <tr>\n",
       "      <th>4</th>\n",
       "      <td>ACKR4</td>\n",
       "      <td>atypical chemokine receptor 4</td>\n",
       "      <td>51554</td>\n",
       "      <td>[DISEASES]</td>\n",
       "    </tr>\n",
       "  </tbody>\n",
       "</table>\n",
       "</div>"
      ],
      "text/plain": [
       "  gene_symbol                                          gene_name  \\\n",
       "0        ABAT                   4-aminobutyrate aminotransferase   \n",
       "1       ABCB1  ATP-binding cassette, sub-family B (MDR/TAP), ...   \n",
       "2       ABCC2  ATP-binding cassette, sub-family C (CFTR/MRP),...   \n",
       "3       ABCG2  ATP-binding cassette, sub-family G (WHITE), me...   \n",
       "4       ACKR4                      atypical chemokine receptor 4   \n",
       "\n",
       "   entrez_gene_id                     sources  \n",
       "0              18                  [DisGeNET]  \n",
       "1            5243  [DISEASES, DOAF, DisGeNET]  \n",
       "2            1244                  [DisGeNET]  \n",
       "3            9429                  [DisGeNET]  \n",
       "4           51554                  [DISEASES]  "
      ]
     },
     "execution_count": 101,
     "metadata": {},
     "output_type": "execute_result"
    }
   ],
   "source": [
    "# Uses the official neo4j-python-driver. See https://github.com/neo4j/neo4j-python-driver\n",
    "\n",
    "query = '''\n",
    "MATCH (disease:Disease)-[assoc:ASSOCIATES_DaG]-(gene:Gene)\n",
    "WHERE disease.name = 'epilepsy syndrome'\n",
    "RETURN\n",
    " gene.name AS gene_symbol,\n",
    " gene.description AS gene_name,\n",
    " gene.identifier AS entrez_gene_id,\n",
    " assoc.sources AS sources\n",
    "ORDER BY gene_symbol\n",
    "'''\n",
    "\n",
    "driver = GraphDatabase.driver(\"bolt://neo4j.het.io\")\n",
    "with driver.session() as session:\n",
    "    result = session.run(query)\n",
    "    gene_df = pandas.DataFrame((x.values() for x in result), columns=result.keys())\n",
    "\n",
    "gene_df.head()"
   ]
  },
  {
   "cell_type": "code",
   "execution_count": 102,
   "metadata": {
    "collapsed": false
   },
   "outputs": [
    {
     "data": {
      "text/plain": [
       "399"
      ]
     },
     "execution_count": 102,
     "metadata": {},
     "output_type": "execute_result"
    }
   ],
   "source": [
    "epilepsy_genes = list()\n",
    "for entrez_gene_id in gene_df.entrez_gene_id:\n",
    "    node_id = 'Gene', entrez_gene_id\n",
    "    node = graph.node_dict.get(node_id)\n",
    "    if node:\n",
    "        epilepsy_genes.append(node)\n",
    "len(epilepsy_genes)"
   ]
  },
  {
   "cell_type": "code",
   "execution_count": 103,
   "metadata": {
    "collapsed": false
   },
   "outputs": [
    {
     "name": "stdout",
     "output_type": "stream",
     "text": [
      "Gene - interacts - Gene\n",
      "(20945,)\n",
      "(20945,)\n",
      "(20945, 20945)\n",
      "Gene - participates - Biological Process\n",
      "(11381,)\n",
      "(20945,)\n",
      "(11381, 20945)\n"
     ]
    },
    {
     "ename": "IndexError",
     "evalue": "index 11381 is out of bounds for axis 0 with size 11381",
     "output_type": "error",
     "traceback": [
      "\u001b[1;31m---------------------------------------------------------------------------\u001b[0m",
      "\u001b[1;31mIndexError\u001b[0m                                Traceback (most recent call last)",
      "\u001b[1;32m<ipython-input-103-3bbdf7a3fbe2>\u001b[0m in \u001b[0;36m<module>\u001b[1;34m()\u001b[0m\n\u001b[0;32m      1\u001b[0m \u001b[0mmetapath\u001b[0m \u001b[1;33m=\u001b[0m \u001b[0mmetagraph\u001b[0m\u001b[1;33m.\u001b[0m\u001b[0mmetapath_from_abbrev\u001b[0m\u001b[1;33m(\u001b[0m\u001b[1;34m'GiGpBP'\u001b[0m\u001b[1;33m)\u001b[0m\u001b[1;33m\u001b[0m\u001b[0m\n\u001b[0;32m      2\u001b[0m \u001b[0msource_node_weights\u001b[0m \u001b[1;33m=\u001b[0m \u001b[1;33m{\u001b[0m\u001b[0mgene\u001b[0m\u001b[1;33m:\u001b[0m \u001b[1;36m1\u001b[0m \u001b[1;32mfor\u001b[0m \u001b[0mgene\u001b[0m \u001b[1;32min\u001b[0m \u001b[0mepilepsy_genes\u001b[0m\u001b[1;33m}\u001b[0m\u001b[1;33m\u001b[0m\u001b[0m\n\u001b[1;32m----> 3\u001b[1;33m \u001b[0mpathway_scores\u001b[0m \u001b[1;33m=\u001b[0m \u001b[0mdiffuse_along_metapath\u001b[0m\u001b[1;33m(\u001b[0m\u001b[0mgraph\u001b[0m\u001b[1;33m,\u001b[0m \u001b[0mmetapath\u001b[0m\u001b[1;33m,\u001b[0m \u001b[0msource_node_weights\u001b[0m\u001b[1;33m)\u001b[0m\u001b[1;33m\u001b[0m\u001b[0m\n\u001b[0m\u001b[0;32m      4\u001b[0m \u001b[0mrows\u001b[0m \u001b[1;33m=\u001b[0m \u001b[1;33m[\u001b[0m\u001b[1;33m(\u001b[0m\u001b[0mpathway\u001b[0m\u001b[1;33m.\u001b[0m\u001b[0mname\u001b[0m\u001b[1;33m,\u001b[0m \u001b[0mscore\u001b[0m\u001b[1;33m)\u001b[0m \u001b[1;32mfor\u001b[0m \u001b[0mpathway\u001b[0m\u001b[1;33m,\u001b[0m \u001b[0mscore\u001b[0m \u001b[1;32min\u001b[0m \u001b[0mpathway_scores\u001b[0m\u001b[1;33m.\u001b[0m\u001b[0mitems\u001b[0m\u001b[1;33m(\u001b[0m\u001b[1;33m)\u001b[0m\u001b[1;33m]\u001b[0m\u001b[1;33m\u001b[0m\u001b[0m\n\u001b[0;32m      5\u001b[0m \u001b[0mtarget_df\u001b[0m \u001b[1;33m=\u001b[0m \u001b[0mpandas\u001b[0m\u001b[1;33m.\u001b[0m\u001b[0mDataFrame\u001b[0m\u001b[1;33m(\u001b[0m\u001b[0mrows\u001b[0m\u001b[1;33m,\u001b[0m \u001b[0mcolumns\u001b[0m\u001b[1;33m=\u001b[0m\u001b[1;33m[\u001b[0m\u001b[1;34m'target_node'\u001b[0m\u001b[1;33m,\u001b[0m \u001b[1;34m'score'\u001b[0m\u001b[1;33m]\u001b[0m\u001b[1;33m)\u001b[0m\u001b[1;33m\u001b[0m\u001b[0m\n",
      "\u001b[1;32m<ipython-input-100-cb4be1280e78>\u001b[0m in \u001b[0;36mdiffuse_along_metapath\u001b[1;34m(graph, metapath, source_node_weights)\u001b[0m\n\u001b[0;32m     49\u001b[0m             \u001b[0mval\u001b[0m \u001b[1;33m=\u001b[0m \u001b[0mrow_degrees\u001b[0m\u001b[1;33m[\u001b[0m\u001b[0mj\u001b[0m\u001b[1;33m]\u001b[0m\u001b[1;33m\u001b[0m\u001b[0m\n\u001b[0;32m     50\u001b[0m             \u001b[1;32mif\u001b[0m \u001b[0mval\u001b[0m \u001b[1;33m!=\u001b[0m \u001b[1;36m0\u001b[0m\u001b[1;33m:\u001b[0m\u001b[1;33m\u001b[0m\u001b[0m\n\u001b[1;32m---> 51\u001b[1;33m                 \u001b[0mnode_scores\u001b[0m\u001b[1;33m[\u001b[0m\u001b[0mj\u001b[0m\u001b[1;33m]\u001b[0m \u001b[1;33m=\u001b[0m \u001b[0mnode_scores\u001b[0m\u001b[1;33m[\u001b[0m\u001b[0mj\u001b[0m\u001b[1;33m]\u001b[0m \u001b[1;33m/\u001b[0m \u001b[0mrow_degrees\u001b[0m\u001b[1;33m[\u001b[0m\u001b[0mj\u001b[0m\u001b[1;33m]\u001b[0m\u001b[1;33m\u001b[0m\u001b[0m\n\u001b[0m\u001b[0;32m     52\u001b[0m \u001b[1;33m\u001b[0m\u001b[0m\n\u001b[0;32m     53\u001b[0m     \u001b[0mtarget_metanode\u001b[0m \u001b[1;33m=\u001b[0m \u001b[0mmetapath\u001b[0m\u001b[1;33m.\u001b[0m\u001b[0mtarget\u001b[0m\u001b[1;33m(\u001b[0m\u001b[1;33m)\u001b[0m\u001b[1;33m\u001b[0m\u001b[0m\n",
      "\u001b[1;31mIndexError\u001b[0m: index 11381 is out of bounds for axis 0 with size 11381"
     ]
    }
   ],
   "source": [
    "metapath = metagraph.metapath_from_abbrev('GiGpBP')\n",
    "source_node_weights = {gene: 1 for gene in epilepsy_genes}\n",
    "pathway_scores = diffuse_along_metapath(graph, metapath, source_node_weights)\n",
    "rows = [(pathway.name, score) for pathway, score in pathway_scores.items()]\n",
    "target_df = pandas.DataFrame(rows, columns=['target_node', 'score'])\n",
    "target_df = target_df.sort_values('score', ascending=False)"
   ]
  },
  {
   "cell_type": "code",
   "execution_count": null,
   "metadata": {
    "collapsed": false
   },
   "outputs": [],
   "source": [
    "len(target_df)"
   ]
  },
  {
   "cell_type": "code",
   "execution_count": null,
   "metadata": {
    "collapsed": false
   },
   "outputs": [],
   "source": [
    "sum(target_df.score)"
   ]
  },
  {
   "cell_type": "code",
   "execution_count": null,
   "metadata": {
    "collapsed": false
   },
   "outputs": [],
   "source": [
    "metapath"
   ]
  },
  {
   "cell_type": "code",
   "execution_count": null,
   "metadata": {
    "collapsed": false
   },
   "outputs": [],
   "source": [
    "target_df"
   ]
  },
  {
   "cell_type": "code",
   "execution_count": null,
   "metadata": {
    "collapsed": true
   },
   "outputs": [],
   "source": []
  }
 ],
 "metadata": {
  "kernelspec": {
   "display_name": "Python 3",
   "language": "python",
   "name": "python3"
  },
  "language_info": {
   "codemirror_mode": {
    "name": "ipython",
    "version": 3
   },
   "file_extension": ".py",
   "mimetype": "text/x-python",
   "name": "python",
   "nbconvert_exporter": "python",
   "pygments_lexer": "ipython3",
   "version": "3.5.1"
  }
 },
 "nbformat": 4,
 "nbformat_minor": 2
}
