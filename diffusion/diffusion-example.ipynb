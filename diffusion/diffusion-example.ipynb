{
 "cells": [
  {
   "cell_type": "markdown",
   "metadata": {},
   "source": [
    "# Implementation of diffusion hetmech"
   ]
  },
  {
   "cell_type": "code",
   "execution_count": 1,
   "metadata": {
    "collapsed": false
   },
   "outputs": [],
   "source": [
    "import collections\n",
    "\n",
    "import numpy\n",
    "import pandas\n",
    "from sklearn.preprocessing import normalize\n",
    "from neo4j.v1 import GraphDatabase\n",
    "import hetio.readwrite\n",
    "import hetio.hetnet"
   ]
  },
  {
   "cell_type": "code",
   "execution_count": 2,
   "metadata": {
    "collapsed": false
   },
   "outputs": [
    {
     "name": "stdout",
     "output_type": "stream",
     "text": [
      "CPU times: user 1min 20s, sys: 1.97 s, total: 1min 22s\n",
      "Wall time: 1min 25s\n"
     ]
    }
   ],
   "source": [
    "%%time\n",
    "url = 'https://github.com/dhimmel/hetionet/raw/76550e6c93fbe92124edc71725e8c7dd4ca8b1f5/hetnet/json/hetionet-v1.0.json.bz2'\n",
    "graph = hetio.readwrite.read_graph(url)\n",
    "metagraph = graph.metagraph"
   ]
  },
  {
   "cell_type": "code",
   "execution_count": 3,
   "metadata": {
    "collapsed": false
   },
   "outputs": [
    {
     "data": {
      "text/plain": [
       "(11, 24)"
      ]
     },
     "execution_count": 3,
     "metadata": {},
     "output_type": "execute_result"
    }
   ],
   "source": [
    "# MetaGraph node/edge count\n",
    "metagraph.n_nodes, metagraph.n_edges"
   ]
  },
  {
   "cell_type": "code",
   "execution_count": 4,
   "metadata": {
    "collapsed": false
   },
   "outputs": [
    {
     "data": {
      "text/plain": [
       "(47031, 2250197)"
      ]
     },
     "execution_count": 4,
     "metadata": {},
     "output_type": "execute_result"
    }
   ],
   "source": [
    "# Graph node/edge count\n",
    "graph.n_nodes, graph.n_edges"
   ]
  },
  {
   "cell_type": "code",
   "execution_count": 5,
   "metadata": {
    "collapsed": false
   },
   "outputs": [],
   "source": [
    "def get_node_to_position(graph, metanode):\n",
    "    \"\"\"\n",
    "    Given a metanode, return a dictionary of node to position\n",
    "    \"\"\"\n",
    "    if not isinstance(metanode, hetio.hetnet.MetaNode):\n",
    "        # metanode is a name\n",
    "        metanode = graph.node_dict(metanode)\n",
    "    metanode_to_nodes = graph.get_metanode_to_nodes()\n",
    "    nodes = sorted(metanode_to_nodes[metanode])\n",
    "    node_to_position = collections.OrderedDict((n, i) for i, n in enumerate(nodes))\n",
    "    return node_to_position\n",
    "\n",
    "def metaedge_to_adjacency_matrix(graph, metaedge):\n",
    "    \"\"\"\n",
    "    Returns an adjacency matrix where source nodes are columns and target nodes are rows\n",
    "    \"\"\"\n",
    "    if not isinstance(metaedge, hetio.hetnet.MetaEdge):\n",
    "        # metaedge is an abbreviation\n",
    "        metaedge = graph.metagraph.metapath_from_abbrev(metaedge)[0]\n",
    "    source_nodes = list(get_node_to_position(graph, metaedge.source))\n",
    "    target_node_to_position = get_node_to_position(graph, metaedge.target)\n",
    "    adjacency_matrix = numpy.zeros((len(target_node_to_position), len(source_nodes)))\n",
    "    for j, source_node in enumerate(source_nodes):\n",
    "        for edge in source_node.edges[metaedge]:\n",
    "            i = target_node_to_position[edge.target]\n",
    "            adjacency_matrix[i, j] = 1\n",
    "    return adjacency_matrix"
   ]
  },
  {
   "cell_type": "code",
   "execution_count": 6,
   "metadata": {
    "collapsed": true
   },
   "outputs": [],
   "source": [
    "def row_normalize(matrix, damping_exponent=0):\n",
    "    \"\"\"\n",
    "    Row normalize a 2d numpy array\n",
    "    \"\"\"\n",
    "    matrix = matrix.copy()\n",
    "    row_sums = matrix.sum(axis=1)\n",
    "    for j, row_sum in enumerate(row_sums):\n",
    "        if row_sum == 0:\n",
    "            continue\n",
    "        matrix[j, :] *= row_sum ** -damping_exponent\n",
    "    return matrix\n",
    "\n",
    "\n",
    "def diffuse_along_metapath(graph, metapath, source_node_weights, damping_exponent=1):\n",
    "    \"\"\"\n",
    "    Parameters\n",
    "    ==========\n",
    "    graph : hetio.hetnet.Graph\n",
    "        graph to extract adjacency matrixes along\n",
    "    metapath : hetio.hetnet.MetaPath\n",
    "        metapath to diffuse along\n",
    "    source_node_weights : dict\n",
    "        dictionary of node to weight. Nodes not in dict are zero-weighted\n",
    "    \"\"\"\n",
    "    \n",
    "    # Initialize node weights\n",
    "    source_metanode = metapath.source()\n",
    "    source_node_to_position = get_node_to_position(graph, source_metanode)\n",
    "    node_scores = numpy.zeros(len(source_node_to_position))\n",
    "    for source_node, weight in source_node_weights.items():\n",
    "        i = source_node_to_position[source_node]\n",
    "        node_scores[i] = weight\n",
    "    \n",
    "    for metaedge in metapath:\n",
    "        adjacency_matrix = metaedge_to_adjacency_matrix(graph, metaedge)\n",
    "        # Row normalization and degree damping\n",
    "        adjacency_matrix = row_normalize(adjacency_matrix, damping_exponent)\n",
    "        # Column Normalization\n",
    "        adjacency_matrix = normalize(adjacency_matrix, norm='l1', axis=0)\n",
    "        # Can use @ in Python 3.5+ https://www.python.org/dev/peps/pep-0465/\n",
    "        node_scores = adjacency_matrix.dot(node_scores)\n",
    "\n",
    "\n",
    "    target_metanode = metapath.target()\n",
    "    target_node_to_position = get_node_to_position(graph, target_metanode)\n",
    "    node_to_score = collections.OrderedDict(zip(target_node_to_position, node_scores))\n",
    "    return node_to_score"
   ]
  },
  {
   "cell_type": "code",
   "execution_count": 7,
   "metadata": {
    "collapsed": false
   },
   "outputs": [
    {
     "data": {
      "text/html": [
       "<div>\n",
       "<table border=\"1\" class=\"dataframe\">\n",
       "  <thead>\n",
       "    <tr style=\"text-align: right;\">\n",
       "      <th></th>\n",
       "      <th>gene_symbol</th>\n",
       "      <th>gene_name</th>\n",
       "      <th>entrez_gene_id</th>\n",
       "      <th>sources</th>\n",
       "    </tr>\n",
       "  </thead>\n",
       "  <tbody>\n",
       "    <tr>\n",
       "      <th>0</th>\n",
       "      <td>ABAT</td>\n",
       "      <td>4-aminobutyrate aminotransferase</td>\n",
       "      <td>18</td>\n",
       "      <td>[DisGeNET]</td>\n",
       "    </tr>\n",
       "    <tr>\n",
       "      <th>1</th>\n",
       "      <td>ABCB1</td>\n",
       "      <td>ATP-binding cassette, sub-family B (MDR/TAP), ...</td>\n",
       "      <td>5243</td>\n",
       "      <td>[DISEASES, DOAF, DisGeNET]</td>\n",
       "    </tr>\n",
       "    <tr>\n",
       "      <th>2</th>\n",
       "      <td>ABCC2</td>\n",
       "      <td>ATP-binding cassette, sub-family C (CFTR/MRP),...</td>\n",
       "      <td>1244</td>\n",
       "      <td>[DisGeNET]</td>\n",
       "    </tr>\n",
       "    <tr>\n",
       "      <th>3</th>\n",
       "      <td>ABCG2</td>\n",
       "      <td>ATP-binding cassette, sub-family G (WHITE), me...</td>\n",
       "      <td>9429</td>\n",
       "      <td>[DisGeNET]</td>\n",
       "    </tr>\n",
       "    <tr>\n",
       "      <th>4</th>\n",
       "      <td>ACKR4</td>\n",
       "      <td>atypical chemokine receptor 4</td>\n",
       "      <td>51554</td>\n",
       "      <td>[DISEASES]</td>\n",
       "    </tr>\n",
       "  </tbody>\n",
       "</table>\n",
       "</div>"
      ],
      "text/plain": [
       "  gene_symbol                                          gene_name  \\\n",
       "0        ABAT                   4-aminobutyrate aminotransferase   \n",
       "1       ABCB1  ATP-binding cassette, sub-family B (MDR/TAP), ...   \n",
       "2       ABCC2  ATP-binding cassette, sub-family C (CFTR/MRP),...   \n",
       "3       ABCG2  ATP-binding cassette, sub-family G (WHITE), me...   \n",
       "4       ACKR4                      atypical chemokine receptor 4   \n",
       "\n",
       "   entrez_gene_id                     sources  \n",
       "0              18                  [DisGeNET]  \n",
       "1            5243  [DISEASES, DOAF, DisGeNET]  \n",
       "2            1244                  [DisGeNET]  \n",
       "3            9429                  [DisGeNET]  \n",
       "4           51554                  [DISEASES]  "
      ]
     },
     "execution_count": 7,
     "metadata": {},
     "output_type": "execute_result"
    }
   ],
   "source": [
    "# Uses the official neo4j-python-driver. See https://github.com/neo4j/neo4j-python-driver\n",
    "\n",
    "query = '''\n",
    "MATCH (disease:Disease)-[assoc:ASSOCIATES_DaG]-(gene:Gene)\n",
    "WHERE disease.name = 'epilepsy syndrome'\n",
    "RETURN\n",
    " gene.name AS gene_symbol,\n",
    " gene.description AS gene_name,\n",
    " gene.identifier AS entrez_gene_id,\n",
    " assoc.sources AS sources\n",
    "ORDER BY gene_symbol\n",
    "'''\n",
    "\n",
    "driver = GraphDatabase.driver(\"bolt://neo4j.het.io\")\n",
    "with driver.session() as session:\n",
    "    result = session.run(query)\n",
    "    gene_df = pandas.DataFrame((x.values() for x in result), columns=result.keys())\n",
    "\n",
    "gene_df.head()"
   ]
  },
  {
   "cell_type": "code",
   "execution_count": 8,
   "metadata": {
    "collapsed": false
   },
   "outputs": [
    {
     "data": {
      "text/plain": [
       "399"
      ]
     },
     "execution_count": 8,
     "metadata": {},
     "output_type": "execute_result"
    }
   ],
   "source": [
    "epilepsy_genes = list()\n",
    "for entrez_gene_id in gene_df.entrez_gene_id:\n",
    "    node_id = 'Gene', entrez_gene_id\n",
    "    node = graph.node_dict.get(node_id)\n",
    "    if node:\n",
    "        epilepsy_genes.append(node)\n",
    "len(epilepsy_genes)"
   ]
  },
  {
   "cell_type": "code",
   "execution_count": 9,
   "metadata": {
    "collapsed": false
   },
   "outputs": [
    {
     "ename": "MemoryError",
     "evalue": "",
     "output_type": "error",
     "traceback": [
      "\u001b[1;31m---------------------------------------------------------------------------\u001b[0m",
      "\u001b[1;31mMemoryError\u001b[0m                               Traceback (most recent call last)",
      "\u001b[1;32m<ipython-input-9-e3855189c20a>\u001b[0m in \u001b[0;36m<module>\u001b[1;34m()\u001b[0m\n\u001b[0;32m      1\u001b[0m \u001b[0mmetapath\u001b[0m \u001b[1;33m=\u001b[0m \u001b[0mmetagraph\u001b[0m\u001b[1;33m.\u001b[0m\u001b[0mmetapath_from_abbrev\u001b[0m\u001b[1;33m(\u001b[0m\u001b[1;34m'GiGpBP'\u001b[0m\u001b[1;33m)\u001b[0m\u001b[1;33m\u001b[0m\u001b[0m\n\u001b[0;32m      2\u001b[0m \u001b[0msource_node_weights\u001b[0m \u001b[1;33m=\u001b[0m \u001b[1;33m{\u001b[0m\u001b[0mgene\u001b[0m\u001b[1;33m:\u001b[0m \u001b[1;36m1\u001b[0m \u001b[1;32mfor\u001b[0m \u001b[0mgene\u001b[0m \u001b[1;32min\u001b[0m \u001b[0mepilepsy_genes\u001b[0m\u001b[1;33m}\u001b[0m\u001b[1;33m\u001b[0m\u001b[0m\n\u001b[1;32m----> 3\u001b[1;33m \u001b[0mpathway_scores\u001b[0m \u001b[1;33m=\u001b[0m \u001b[0mdiffuse_along_metapath\u001b[0m\u001b[1;33m(\u001b[0m\u001b[0mgraph\u001b[0m\u001b[1;33m,\u001b[0m \u001b[0mmetapath\u001b[0m\u001b[1;33m,\u001b[0m \u001b[0msource_node_weights\u001b[0m\u001b[1;33m,\u001b[0m \u001b[0mdamping_exponent\u001b[0m\u001b[1;33m=\u001b[0m\u001b[1;36m1\u001b[0m\u001b[1;33m)\u001b[0m\u001b[1;33m\u001b[0m\u001b[0m\n\u001b[0m\u001b[0;32m      4\u001b[0m \u001b[0mrows\u001b[0m \u001b[1;33m=\u001b[0m \u001b[1;33m[\u001b[0m\u001b[1;33m(\u001b[0m\u001b[0mpathway\u001b[0m\u001b[1;33m.\u001b[0m\u001b[0mname\u001b[0m\u001b[1;33m,\u001b[0m \u001b[0mscore\u001b[0m\u001b[1;33m)\u001b[0m \u001b[1;32mfor\u001b[0m \u001b[0mpathway\u001b[0m\u001b[1;33m,\u001b[0m \u001b[0mscore\u001b[0m \u001b[1;32min\u001b[0m \u001b[0mpathway_scores\u001b[0m\u001b[1;33m.\u001b[0m\u001b[0mitems\u001b[0m\u001b[1;33m(\u001b[0m\u001b[1;33m)\u001b[0m\u001b[1;33m]\u001b[0m\u001b[1;33m\u001b[0m\u001b[0m\n\u001b[0;32m      5\u001b[0m \u001b[0mtarget_df\u001b[0m \u001b[1;33m=\u001b[0m \u001b[0mpandas\u001b[0m\u001b[1;33m.\u001b[0m\u001b[0mDataFrame\u001b[0m\u001b[1;33m(\u001b[0m\u001b[0mrows\u001b[0m\u001b[1;33m,\u001b[0m \u001b[0mcolumns\u001b[0m\u001b[1;33m=\u001b[0m\u001b[1;33m[\u001b[0m\u001b[1;34m'target_node'\u001b[0m\u001b[1;33m,\u001b[0m \u001b[1;34m'score'\u001b[0m\u001b[1;33m]\u001b[0m\u001b[1;33m)\u001b[0m\u001b[1;33m\u001b[0m\u001b[0m\n",
      "\u001b[1;32m<ipython-input-6-8305c5f3b484>\u001b[0m in \u001b[0;36mdiffuse_along_metapath\u001b[1;34m(graph, metapath, source_node_weights, damping_exponent)\u001b[0m\n\u001b[0;32m     37\u001b[0m         \u001b[0madjacency_matrix\u001b[0m \u001b[1;33m=\u001b[0m \u001b[0mrow_normalize\u001b[0m\u001b[1;33m(\u001b[0m\u001b[0madjacency_matrix\u001b[0m\u001b[1;33m,\u001b[0m \u001b[0mdamping_exponent\u001b[0m\u001b[1;33m)\u001b[0m\u001b[1;33m\u001b[0m\u001b[0m\n\u001b[0;32m     38\u001b[0m         \u001b[1;31m# Column Normalization\u001b[0m\u001b[1;33m\u001b[0m\u001b[1;33m\u001b[0m\u001b[0m\n\u001b[1;32m---> 39\u001b[1;33m         \u001b[0madjacency_matrix\u001b[0m \u001b[1;33m=\u001b[0m \u001b[0mnormalize\u001b[0m\u001b[1;33m(\u001b[0m\u001b[0madjacency_matrix\u001b[0m\u001b[1;33m,\u001b[0m \u001b[0mnorm\u001b[0m\u001b[1;33m=\u001b[0m\u001b[1;34m'l1'\u001b[0m\u001b[1;33m,\u001b[0m \u001b[0maxis\u001b[0m\u001b[1;33m=\u001b[0m\u001b[1;36m0\u001b[0m\u001b[1;33m)\u001b[0m\u001b[1;33m\u001b[0m\u001b[0m\n\u001b[0m\u001b[0;32m     40\u001b[0m         \u001b[1;31m# Can use @ in Python 3.5+ https://www.python.org/dev/peps/pep-0465/\u001b[0m\u001b[1;33m\u001b[0m\u001b[1;33m\u001b[0m\u001b[0m\n\u001b[0;32m     41\u001b[0m         \u001b[0mnode_scores\u001b[0m \u001b[1;33m=\u001b[0m \u001b[0madjacency_matrix\u001b[0m\u001b[1;33m.\u001b[0m\u001b[0mdot\u001b[0m\u001b[1;33m(\u001b[0m\u001b[0mnode_scores\u001b[0m\u001b[1;33m)\u001b[0m\u001b[1;33m\u001b[0m\u001b[0m\n",
      "\u001b[1;32m/home/hyunil/.conda/envs/hetmech/lib/python3.5/site-packages/sklearn/preprocessing/data.py\u001b[0m in \u001b[0;36mnormalize\u001b[1;34m(X, norm, axis, copy)\u001b[0m\n\u001b[0;32m   1278\u001b[0m \u001b[1;33m\u001b[0m\u001b[0m\n\u001b[0;32m   1279\u001b[0m     X = check_array(X, sparse_format, copy=copy, warn_on_dtype=True,\n\u001b[1;32m-> 1280\u001b[1;33m                     estimator='the normalize function', dtype=FLOAT_DTYPES)\n\u001b[0m\u001b[0;32m   1281\u001b[0m     \u001b[1;32mif\u001b[0m \u001b[0maxis\u001b[0m \u001b[1;33m==\u001b[0m \u001b[1;36m0\u001b[0m\u001b[1;33m:\u001b[0m\u001b[1;33m\u001b[0m\u001b[0m\n\u001b[0;32m   1282\u001b[0m         \u001b[0mX\u001b[0m \u001b[1;33m=\u001b[0m \u001b[0mX\u001b[0m\u001b[1;33m.\u001b[0m\u001b[0mT\u001b[0m\u001b[1;33m\u001b[0m\u001b[0m\n",
      "\u001b[1;32m/home/hyunil/.conda/envs/hetmech/lib/python3.5/site-packages/sklearn/utils/validation.py\u001b[0m in \u001b[0;36mcheck_array\u001b[1;34m(array, accept_sparse, dtype, order, copy, force_all_finite, ensure_2d, allow_nd, ensure_min_samples, ensure_min_features, warn_on_dtype, estimator)\u001b[0m\n\u001b[0;32m    387\u001b[0m             \u001b[0marray\u001b[0m \u001b[1;33m=\u001b[0m \u001b[0mnp\u001b[0m\u001b[1;33m.\u001b[0m\u001b[0matleast_2d\u001b[0m\u001b[1;33m(\u001b[0m\u001b[0marray\u001b[0m\u001b[1;33m)\u001b[0m\u001b[1;33m\u001b[0m\u001b[0m\n\u001b[0;32m    388\u001b[0m             \u001b[1;31m# To ensure that array flags are maintained\u001b[0m\u001b[1;33m\u001b[0m\u001b[1;33m\u001b[0m\u001b[0m\n\u001b[1;32m--> 389\u001b[1;33m             \u001b[0marray\u001b[0m \u001b[1;33m=\u001b[0m \u001b[0mnp\u001b[0m\u001b[1;33m.\u001b[0m\u001b[0marray\u001b[0m\u001b[1;33m(\u001b[0m\u001b[0marray\u001b[0m\u001b[1;33m,\u001b[0m \u001b[0mdtype\u001b[0m\u001b[1;33m=\u001b[0m\u001b[0mdtype\u001b[0m\u001b[1;33m,\u001b[0m \u001b[0morder\u001b[0m\u001b[1;33m=\u001b[0m\u001b[0morder\u001b[0m\u001b[1;33m,\u001b[0m \u001b[0mcopy\u001b[0m\u001b[1;33m=\u001b[0m\u001b[0mcopy\u001b[0m\u001b[1;33m)\u001b[0m\u001b[1;33m\u001b[0m\u001b[0m\n\u001b[0m\u001b[0;32m    390\u001b[0m \u001b[1;33m\u001b[0m\u001b[0m\n\u001b[0;32m    391\u001b[0m         \u001b[1;31m# make sure we acually converted to numeric:\u001b[0m\u001b[1;33m\u001b[0m\u001b[1;33m\u001b[0m\u001b[0m\n",
      "\u001b[1;31mMemoryError\u001b[0m: "
     ]
    }
   ],
   "source": [
    "metapath = metagraph.metapath_from_abbrev('GiGpBP')\n",
    "source_node_weights = {gene: 1 for gene in epilepsy_genes}\n",
    "pathway_scores = diffuse_along_metapath(graph, metapath, source_node_weights, damping_exponent=1)\n",
    "rows = [(pathway.name, score) for pathway, score in pathway_scores.items()]\n",
    "target_df = pandas.DataFrame(rows, columns=['target_node', 'score'])\n",
    "target_df = target_df.sort_values('score', ascending=False)"
   ]
  },
  {
   "cell_type": "code",
   "execution_count": 11,
   "metadata": {
    "collapsed": false
   },
   "outputs": [
    {
     "ename": "MemoryError",
     "evalue": "",
     "output_type": "error",
     "traceback": [
      "\u001b[1;31m---------------------------------------------------------------------------\u001b[0m",
      "\u001b[1;31mMemoryError\u001b[0m                               Traceback (most recent call last)",
      "\u001b[1;32m<ipython-input-11-c0214aea8a06>\u001b[0m in \u001b[0;36m<module>\u001b[1;34m()\u001b[0m\n\u001b[0;32m     32\u001b[0m \u001b[0mmetapath\u001b[0m \u001b[1;33m=\u001b[0m \u001b[0mmetagraph\u001b[0m\u001b[1;33m.\u001b[0m\u001b[0mmetapath_from_abbrev\u001b[0m\u001b[1;33m(\u001b[0m\u001b[1;34m'GiGpBP'\u001b[0m\u001b[1;33m)\u001b[0m\u001b[1;33m\u001b[0m\u001b[0m\n\u001b[0;32m     33\u001b[0m \u001b[0msource_node_weights\u001b[0m \u001b[1;33m=\u001b[0m \u001b[1;33m{\u001b[0m\u001b[0mgene\u001b[0m\u001b[1;33m:\u001b[0m \u001b[1;36m1\u001b[0m \u001b[1;32mfor\u001b[0m \u001b[0mgene\u001b[0m \u001b[1;32min\u001b[0m \u001b[0mepilepsy_genes\u001b[0m\u001b[1;33m}\u001b[0m\u001b[1;33m\u001b[0m\u001b[0m\n\u001b[1;32m---> 34\u001b[1;33m \u001b[0mpathway_scores\u001b[0m \u001b[1;33m=\u001b[0m \u001b[0mmdiff\u001b[0m\u001b[1;33m.\u001b[0m\u001b[0mdiffuse_along_metapath\u001b[0m\u001b[1;33m(\u001b[0m\u001b[0mgraph\u001b[0m\u001b[1;33m,\u001b[0m \u001b[0mmetapath\u001b[0m\u001b[1;33m,\u001b[0m \u001b[0msource_node_weights\u001b[0m\u001b[1;33m,\u001b[0m \u001b[0mcolumn_damping\u001b[0m\u001b[1;33m=\u001b[0m\u001b[1;36m1\u001b[0m\u001b[1;33m,\u001b[0m \u001b[0mrow_damping\u001b[0m\u001b[1;33m=\u001b[0m\u001b[1;36m0\u001b[0m\u001b[1;33m)\u001b[0m\u001b[1;33m\u001b[0m\u001b[0m\n\u001b[0m\u001b[0;32m     35\u001b[0m \u001b[0mrows\u001b[0m \u001b[1;33m=\u001b[0m \u001b[1;33m[\u001b[0m\u001b[1;33m(\u001b[0m\u001b[0mpathway\u001b[0m\u001b[1;33m.\u001b[0m\u001b[0mname\u001b[0m\u001b[1;33m,\u001b[0m \u001b[0mscore\u001b[0m\u001b[1;33m)\u001b[0m \u001b[1;32mfor\u001b[0m \u001b[0mpathway\u001b[0m\u001b[1;33m,\u001b[0m \u001b[0mscore\u001b[0m \u001b[1;32min\u001b[0m \u001b[0mpathway_scores\u001b[0m\u001b[1;33m.\u001b[0m\u001b[0mitems\u001b[0m\u001b[1;33m(\u001b[0m\u001b[1;33m)\u001b[0m\u001b[1;33m]\u001b[0m\u001b[1;33m\u001b[0m\u001b[0m\n\u001b[0;32m     36\u001b[0m \u001b[0mtarget_df\u001b[0m \u001b[1;33m=\u001b[0m \u001b[0mpandas\u001b[0m\u001b[1;33m.\u001b[0m\u001b[0mDataFrame\u001b[0m\u001b[1;33m(\u001b[0m\u001b[0mrows\u001b[0m\u001b[1;33m,\u001b[0m \u001b[0mcolumns\u001b[0m\u001b[1;33m=\u001b[0m\u001b[1;33m[\u001b[0m\u001b[1;34m'target_node'\u001b[0m\u001b[1;33m,\u001b[0m \u001b[1;34m'score'\u001b[0m\u001b[1;33m]\u001b[0m\u001b[1;33m)\u001b[0m\u001b[1;33m\u001b[0m\u001b[0m\n",
      "\u001b[1;32m/home/hyunil/research/hetmech/diffusion/metapath_diffusion.py\u001b[0m in \u001b[0;36mdiffuse_along_metapath\u001b[1;34m(graph, metapath, source_node_weights, column_damping, row_damping)\u001b[0m\n\u001b[0;32m     80\u001b[0m \u001b[1;33m\u001b[0m\u001b[0m\n\u001b[0;32m     81\u001b[0m     \u001b[1;32mfor\u001b[0m \u001b[0mmetaedge\u001b[0m \u001b[1;32min\u001b[0m \u001b[0mmetapath\u001b[0m\u001b[1;33m:\u001b[0m\u001b[1;33m\u001b[0m\u001b[0m\n\u001b[1;32m---> 82\u001b[1;33m         \u001b[0madjacency_matrix\u001b[0m \u001b[1;33m=\u001b[0m \u001b[0mmetaedge_to_adjacency_matrix\u001b[0m\u001b[1;33m(\u001b[0m\u001b[0mgraph\u001b[0m\u001b[1;33m,\u001b[0m \u001b[0mmetaedge\u001b[0m\u001b[1;33m)\u001b[0m\u001b[1;33m\u001b[0m\u001b[0m\n\u001b[0m\u001b[0;32m     83\u001b[0m \u001b[1;33m\u001b[0m\u001b[0m\n\u001b[0;32m     84\u001b[0m         \u001b[1;31m# Row/column normalization with degree damping\u001b[0m\u001b[1;33m\u001b[0m\u001b[1;33m\u001b[0m\u001b[0m\n",
      "\u001b[1;32m/home/hyunil/research/hetmech/diffusion/metapath_diffusion.py\u001b[0m in \u001b[0;36mmetaedge_to_adjacency_matrix\u001b[1;34m(graph, metaedge)\u001b[0m\n\u001b[0;32m     47\u001b[0m     \u001b[0msource_nodes\u001b[0m \u001b[1;33m=\u001b[0m \u001b[0mlist\u001b[0m\u001b[1;33m(\u001b[0m\u001b[0mget_node_to_position\u001b[0m\u001b[1;33m(\u001b[0m\u001b[0mgraph\u001b[0m\u001b[1;33m,\u001b[0m \u001b[0mmetaedge\u001b[0m\u001b[1;33m.\u001b[0m\u001b[0msource\u001b[0m\u001b[1;33m)\u001b[0m\u001b[1;33m)\u001b[0m\u001b[1;33m\u001b[0m\u001b[0m\n\u001b[0;32m     48\u001b[0m     \u001b[0mtarget_node_to_position\u001b[0m \u001b[1;33m=\u001b[0m \u001b[0mget_node_to_position\u001b[0m\u001b[1;33m(\u001b[0m\u001b[0mgraph\u001b[0m\u001b[1;33m,\u001b[0m \u001b[0mmetaedge\u001b[0m\u001b[1;33m.\u001b[0m\u001b[0mtarget\u001b[0m\u001b[1;33m)\u001b[0m\u001b[1;33m\u001b[0m\u001b[0m\n\u001b[1;32m---> 49\u001b[1;33m     \u001b[0madjacency_matrix\u001b[0m \u001b[1;33m=\u001b[0m \u001b[0mnumpy\u001b[0m\u001b[1;33m.\u001b[0m\u001b[0mzeros\u001b[0m\u001b[1;33m(\u001b[0m\u001b[1;33m(\u001b[0m\u001b[0mlen\u001b[0m\u001b[1;33m(\u001b[0m\u001b[0mtarget_node_to_position\u001b[0m\u001b[1;33m)\u001b[0m\u001b[1;33m,\u001b[0m \u001b[0mlen\u001b[0m\u001b[1;33m(\u001b[0m\u001b[0msource_nodes\u001b[0m\u001b[1;33m)\u001b[0m\u001b[1;33m)\u001b[0m\u001b[1;33m)\u001b[0m\u001b[1;33m\u001b[0m\u001b[0m\n\u001b[0m\u001b[0;32m     50\u001b[0m     \u001b[1;32mfor\u001b[0m \u001b[0mj\u001b[0m\u001b[1;33m,\u001b[0m \u001b[0msource_node\u001b[0m \u001b[1;32min\u001b[0m \u001b[0menumerate\u001b[0m\u001b[1;33m(\u001b[0m\u001b[0msource_nodes\u001b[0m\u001b[1;33m)\u001b[0m\u001b[1;33m:\u001b[0m\u001b[1;33m\u001b[0m\u001b[0m\n\u001b[0;32m     51\u001b[0m         \u001b[1;32mfor\u001b[0m \u001b[0medge\u001b[0m \u001b[1;32min\u001b[0m \u001b[0msource_node\u001b[0m\u001b[1;33m.\u001b[0m\u001b[0medges\u001b[0m\u001b[1;33m[\u001b[0m\u001b[0mmetaedge\u001b[0m\u001b[1;33m]\u001b[0m\u001b[1;33m:\u001b[0m\u001b[1;33m\u001b[0m\u001b[0m\n",
      "\u001b[1;31mMemoryError\u001b[0m: "
     ]
    }
   ],
   "source": [
    "import metapath_diffusion as mdiff\n",
    "\n",
    "\n",
    "\n",
    "# Uses the official neo4j-python-driver. See https://github.com/neo4j/neo4j-python-driver\n",
    "\n",
    "query = '''\n",
    "MATCH (disease:Disease)-[assoc:ASSOCIATES_DaG]-(gene:Gene)\n",
    "WHERE disease.name = 'epilepsy syndrome'\n",
    "RETURN\n",
    " gene.name AS gene_symbol,\n",
    " gene.description AS gene_name,\n",
    " gene.identifier AS entrez_gene_id,\n",
    " assoc.sources AS sources\n",
    "ORDER BY gene_symbol\n",
    "'''\n",
    "\n",
    "driver = GraphDatabase.driver(\"bolt://neo4j.het.io\")\n",
    "with driver.session() as session:\n",
    "    result = session.run(query)\n",
    "    gene_df = pandas.DataFrame((x.values() for x in result), columns=result.keys())\n",
    "\n",
    "gene_df.head()\n",
    "\n",
    "epilepsy_genes = list()\n",
    "for entrez_gene_id in gene_df.entrez_gene_id:\n",
    "    node_id = 'Gene', entrez_gene_id\n",
    "    node = graph.node_dict.get(node_id)\n",
    "    if node:\n",
    "        epilepsy_genes.append(node)\n",
    "\n",
    "metapath = metagraph.metapath_from_abbrev('GiGpBP')\n",
    "source_node_weights = {gene: 1 for gene in epilepsy_genes}\n",
    "pathway_scores = mdiff.diffuse_along_metapath(graph, metapath, source_node_weights, column_damping=1, row_damping=0)\n",
    "rows = [(pathway.name, score) for pathway, score in pathway_scores.items()]\n",
    "target_df = pandas.DataFrame(rows, columns=['target_node', 'score'])\n",
    "target_df = target_df.sort_values('score', ascending=False)\n"
   ]
  },
  {
   "cell_type": "code",
   "execution_count": null,
   "metadata": {
    "collapsed": false
   },
   "outputs": [],
   "source": [
    "len(target_df)"
   ]
  },
  {
   "cell_type": "code",
   "execution_count": null,
   "metadata": {
    "collapsed": false
   },
   "outputs": [],
   "source": [
    "sum(target_df.score)"
   ]
  },
  {
   "cell_type": "code",
   "execution_count": null,
   "metadata": {
    "collapsed": false
   },
   "outputs": [],
   "source": [
    "metapath"
   ]
  },
  {
   "cell_type": "code",
   "execution_count": null,
   "metadata": {
    "collapsed": false,
    "scrolled": false
   },
   "outputs": [],
   "source": [
    "target_df"
   ]
  },
  {
   "cell_type": "code",
   "execution_count": 4,
   "metadata": {
    "collapsed": true
   },
   "outputs": [],
   "source": [
    "import metapath_diffusion as mdiff\n",
    "\n",
    "mdiff.test_dual_normalize()\n",
    "# If no output, then the test passed!"
   ]
  },
  {
   "cell_type": "markdown",
   "metadata": {},
   "source": [
    "# Diagnosing ubiquitin homeostasis\n",
    "\n",
    "[ubiquitin homeostasis](http://amigo.geneontology.org/amigo/term/GO:0010992) contains 3 genes: [UBB, UBC, IDE]\n",
    "\n",
    "```cypher\n",
    "MATCH (bp:BiologicalProcess)-[rel:PARTICIPATES_GpBP]-(gene)-[INTERACTS_GiG]-(gene_target)\n",
    "WHERE bp.name ='ubiquitin homeostasis'\n",
    "RETURN\n",
    "  gene.name AS ubiquitin_homeostasis_gene,\n",
    "  count(gene_target) AS n_interacting_genes\n",
    "```\n",
    "\n",
    "Returns the following table:\n",
    "\n",
    "| ubiquitin_homeostasis_gene | n_interacting_genes |\n",
    "|----------------------------|---------------------|\n",
    "| IDE | 243 |\n",
    "| UBC | 9371 |\n",
    "| UBB | 1040 |\n"
   ]
  }
 ],
 "metadata": {
  "anaconda-cloud": {},
  "kernelspec": {
   "display_name": "Python [hetmech]",
   "language": "python",
   "name": "Python [hetmech]"
  },
  "language_info": {
   "codemirror_mode": {
    "name": "ipython",
    "version": 3
   },
   "file_extension": ".py",
   "mimetype": "text/x-python",
   "name": "python",
   "nbconvert_exporter": "python",
   "pygments_lexer": "ipython3",
   "version": "3.5.2"
  }
 },
 "nbformat": 4,
 "nbformat_minor": 2
}
