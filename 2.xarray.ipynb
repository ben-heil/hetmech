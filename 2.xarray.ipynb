{
 "cells": [
  {
   "cell_type": "markdown",
   "metadata": {},
   "source": [
    "# Export Hetionet v1.0 to an xarray.Dataset"
   ]
  },
  {
   "cell_type": "code",
   "execution_count": 1,
   "metadata": {
    "collapsed": false
   },
   "outputs": [],
   "source": [
    "import os\n",
    "import pickle\n",
    "import gzip\n",
    "\n",
    "import hetio.readwrite\n",
    "\n",
    "from hetmech.xarray import graph_to_xarray"
   ]
  },
  {
   "cell_type": "markdown",
   "metadata": {},
   "source": [
    "## Load Hetionet v1.0"
   ]
  },
  {
   "cell_type": "code",
   "execution_count": 2,
   "metadata": {
    "collapsed": false
   },
   "outputs": [],
   "source": [
    "url = 'https://github.com/dhimmel/hetionet/raw/76550e6c93fbe92124edc71725e8c7dd4ca8b1f5/hetnet/json/hetionet-v1.0.json.bz2'\n",
    "graph = hetio.readwrite.read_graph(url)\n",
    "metagraph = graph.metagraph"
   ]
  },
  {
   "cell_type": "markdown",
   "metadata": {},
   "source": [
    "## Create xarray.Dataset"
   ]
  },
  {
   "cell_type": "code",
   "execution_count": 3,
   "metadata": {
    "collapsed": false
   },
   "outputs": [],
   "source": [
    "dataset = graph_to_xarray(graph)"
   ]
  },
  {
   "cell_type": "code",
   "execution_count": 4,
   "metadata": {
    "collapsed": false
   },
   "outputs": [
    {
     "data": {
      "text/plain": [
       "<xarray.Dataset>\n",
       "Dimensions:              (Anatomy: 402, Biological Process: 11381, Cellular Component: 1391, Compound: 1552, Disease: 137, Gene: 20945, Molecular Function: 2884, Pathway: 1822, Pharmacologic Class: 345, Side Effect: 5734, Symptom: 438)\n",
       "Coordinates:\n",
       "  * Gene                 (Gene) int64 1 2 9 10 12 13 14 15 16 18 19 20 21 22 ...\n",
       "  * Anatomy              (Anatomy) <U14 'UBERON:0000002' 'UBERON:0000004' ...\n",
       "  * Compound             (Compound) <U7 'DB00014' 'DB00035' 'DB00050' ...\n",
       "  * Disease              (Disease) <U12 'DOID:0050156' 'DOID:0050425' ...\n",
       "  * Side Effect          (Side Effect) <U8 'C0000727' 'C0000729' 'C0000731' ...\n",
       "  * Symptom              (Symptom) <U7 'D000006' 'D000270' 'D000326' ...\n",
       "  * Biological Process   (Biological Process) <U10 'GO:0000002' 'GO:0000012' ...\n",
       "  * Cellular Component   (Cellular Component) <U10 'GO:0000015' 'GO:0000109' ...\n",
       "  * Molecular Function   (Molecular Function) <U10 'GO:0000010' 'GO:0000014' ...\n",
       "  * Pathway              (Pathway) <U13 'PC7_10399' 'PC7_10400' 'PC7_10442' ...\n",
       "  * Pharmacologic Class  (Pharmacologic Class) <U11 'N0000000069' ...\n",
       "Data variables:\n",
       "    AdG                  (Gene, Anatomy) float64 0.0 0.0 0.0 0.0 0.0 0.0 0.0 ...\n",
       "    AeG                  (Gene, Anatomy) float64 0.0 0.0 0.0 0.0 0.0 0.0 0.0 ...\n",
       "    AuG                  (Gene, Anatomy) float64 0.0 0.0 0.0 0.0 0.0 0.0 0.0 ...\n",
       "    CrC                  (Compound, Compound) float64 0.0 0.0 1.0 0.0 0.0 ...\n",
       "    CpD                  (Disease, Compound) float64 0.0 0.0 0.0 0.0 0.0 0.0 ...\n",
       "    CtD                  (Disease, Compound) float64 0.0 0.0 0.0 0.0 0.0 0.0 ...\n",
       "    CbG                  (Gene, Compound) float64 0.0 0.0 0.0 0.0 0.0 0.0 ...\n",
       "    CdG                  (Gene, Compound) float64 0.0 0.0 0.0 0.0 0.0 0.0 ...\n",
       "    CuG                  (Gene, Compound) float64 0.0 0.0 0.0 0.0 0.0 0.0 ...\n",
       "    CcSE                 (Side Effect, Compound) float64 0.0 0.0 0.0 0.0 0.0 ...\n",
       "    DlA                  (Anatomy, Disease) float64 0.0 0.0 0.0 0.0 0.0 0.0 ...\n",
       "    DrD                  (Disease, Disease) float64 0.0 0.0 0.0 0.0 0.0 0.0 ...\n",
       "    DaG                  (Gene, Disease) float64 0.0 0.0 0.0 0.0 0.0 0.0 0.0 ...\n",
       "    DdG                  (Gene, Disease) float64 0.0 0.0 0.0 0.0 0.0 0.0 0.0 ...\n",
       "    DuG                  (Gene, Disease) float64 0.0 0.0 0.0 0.0 0.0 0.0 0.0 ...\n",
       "    DpS                  (Symptom, Disease) float64 0.0 0.0 0.0 0.0 0.0 0.0 ...\n",
       "    GpBP                 (Biological Process, Gene) float64 0.0 0.0 0.0 0.0 ...\n",
       "    GpCC                 (Cellular Component, Gene) float64 0.0 0.0 0.0 0.0 ...\n",
       "    GcG                  (Gene, Gene) float64 0.0 0.0 0.0 0.0 0.0 0.0 0.0 ...\n",
       "    GiG                  (Gene, Gene) float64 0.0 0.0 0.0 0.0 0.0 0.0 0.0 ...\n",
       "    Gr>G                 (Gene, Gene) float64 0.0 0.0 0.0 0.0 0.0 0.0 0.0 ...\n",
       "    GpMF                 (Molecular Function, Gene) float64 0.0 0.0 0.0 0.0 ...\n",
       "    GpPW                 (Pathway, Gene) float64 0.0 0.0 0.0 0.0 0.0 0.0 0.0 ...\n",
       "    PCiC                 (Compound, Pharmacologic Class) float64 0.0 0.0 0.0 ..."
      ]
     },
     "execution_count": 4,
     "metadata": {},
     "output_type": "execute_result"
    }
   ],
   "source": [
    "dataset"
   ]
  },
  {
   "cell_type": "code",
   "execution_count": 5,
   "metadata": {
    "collapsed": false
   },
   "outputs": [
    {
     "data": {
      "text/plain": [
       "<xarray.DataArray 'Biological Process' (Biological Process: 11381)>\n",
       "array(['GO:0000002', 'GO:0000012', 'GO:0000018', ..., 'GO:2001301',\n",
       "       'GO:2001302', 'GO:2001303'], \n",
       "      dtype='<U10')\n",
       "Coordinates:\n",
       "  * Biological Process  (Biological Process) <U10 'GO:0000002' 'GO:0000012' ..."
      ]
     },
     "execution_count": 5,
     "metadata": {},
     "output_type": "execute_result"
    }
   ],
   "source": [
    "dataset['Biological Process']"
   ]
  },
  {
   "cell_type": "code",
   "execution_count": 6,
   "metadata": {
    "collapsed": false
   },
   "outputs": [
    {
     "data": {
      "text/plain": [
       "<xarray.DataArray 'Gr>G' (Gene: 20945)>\n",
       "array([[ 0.,  0.,  0., ...,  0.,  0.,  0.],\n",
       "       [ 0.,  0.,  0., ...,  0.,  0.,  0.],\n",
       "       [ 0.,  0.,  0., ...,  0.,  0.,  0.],\n",
       "       ..., \n",
       "       [ 0.,  0.,  0., ...,  0.,  0.,  0.],\n",
       "       [ 0.,  0.,  0., ...,  0.,  0.,  0.],\n",
       "       [ 0.,  0.,  0., ...,  0.,  0.,  0.]])\n",
       "Coordinates:\n",
       "  * Gene     (Gene) int64 1 2 9 10 12 13 14 15 16 18 19 20 21 22 23 24 25 26 ..."
      ]
     },
     "execution_count": 6,
     "metadata": {},
     "output_type": "execute_result"
    }
   ],
   "source": [
    "dataset['Gr>G']"
   ]
  },
  {
   "cell_type": "code",
   "execution_count": 7,
   "metadata": {
    "collapsed": false
   },
   "outputs": [
    {
     "data": {
      "text/plain": [
       "<xarray.DataArray 'Gene' (Gene: 20945)>\n",
       "array([        1,         2,         9, ..., 105379874, 105379878, 105379886])\n",
       "Coordinates:\n",
       "  * Gene     (Gene) int64 1 2 9 10 12 13 14 15 16 18 19 20 21 22 23 24 25 26 ..."
      ]
     },
     "execution_count": 7,
     "metadata": {},
     "output_type": "execute_result"
    }
   ],
   "source": [
    "dataset.Gene"
   ]
  },
  {
   "cell_type": "code",
   "execution_count": 8,
   "metadata": {
    "collapsed": false
   },
   "outputs": [
    {
     "data": {
      "text/plain": [
       "<xarray.Dataset>\n",
       "Dimensions:  ()\n",
       "Data variables:\n",
       "    AdG      float64 0.01214\n",
       "    AeG      float64 0.06252\n",
       "    AuG      float64 0.01162\n",
       "    CrC      float64 0.005385\n",
       "    CpD      float64 0.001834\n",
       "    CtD      float64 0.003551\n",
       "    CbG      float64 0.000356\n",
       "    CdG      float64 0.0006492\n",
       "    CuG      float64 0.000577\n",
       "    CcSE     float64 0.01561\n",
       "    DlA      float64 0.0654\n",
       "    DrD      float64 0.05786\n",
       "    DaG      float64 0.004399\n",
       "    DdG      float64 0.002657\n",
       "    DuG      float64 0.002694\n",
       "    DpS      float64 0.05594\n",
       "    GpBP     float64 0.002347\n",
       "    GpCC     float64 0.002525\n",
       "    GcG      float64 0.0002812\n",
       "    GiG      float64 0.0006709\n",
       "    Gr>G     float64 0.0006056\n",
       "    GpMF     float64 0.001609\n",
       "    GpPW     float64 0.002211\n",
       "    PCiC     float64 0.001922"
      ]
     },
     "execution_count": 8,
     "metadata": {},
     "output_type": "execute_result"
    }
   ],
   "source": [
    "# Density of each metaedge\n",
    "dataset.mean()"
   ]
  },
  {
   "cell_type": "markdown",
   "metadata": {},
   "source": [
    "## Dataset IO"
   ]
  },
  {
   "cell_type": "code",
   "execution_count": 9,
   "metadata": {
    "collapsed": true
   },
   "outputs": [],
   "source": [
    "# netcdf file was humongous. Avoid!\n",
    "# dataset.to_netcdf('xarray_dataset.nc')"
   ]
  },
  {
   "cell_type": "code",
   "execution_count": 10,
   "metadata": {
    "collapsed": false
   },
   "outputs": [],
   "source": [
    "path = os.path.join('data', 'xarray_dataset.pkl.gz')"
   ]
  },
  {
   "cell_type": "code",
   "execution_count": 11,
   "metadata": {
    "collapsed": true
   },
   "outputs": [],
   "source": [
    "# Save as pickle\n",
    "with gzip.open(path, 'wb') as write_file:\n",
    "    pickle.dump(dataset, write_file, protocol=pickle.HIGHEST_PROTOCOL)"
   ]
  },
  {
   "cell_type": "code",
   "execution_count": 12,
   "metadata": {
    "collapsed": false
   },
   "outputs": [],
   "source": [
    "# Read pickle\n",
    "with gzip.open(path) as read_file:\n",
    "    dataset = pickle.load(read_file)"
   ]
  }
 ],
 "metadata": {
  "kernelspec": {
   "display_name": "Python [conda env:hetmech]",
   "language": "python",
   "name": "conda-env-hetmech-py"
  },
  "language_info": {
   "codemirror_mode": {
    "name": "ipython",
    "version": 3
   },
   "file_extension": ".py",
   "mimetype": "text/x-python",
   "name": "python",
   "nbconvert_exporter": "python",
   "pygments_lexer": "ipython3",
   "version": "3.6.0"
  }
 },
 "nbformat": 4,
 "nbformat_minor": 2
}
